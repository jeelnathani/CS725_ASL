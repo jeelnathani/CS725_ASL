{
  "nbformat": 4,
  "nbformat_minor": 0,
  "metadata": {
    "colab": {
      "name": "asl_jeel.ipynb",
      "provenance": []
    },
    "kernelspec": {
      "name": "python3",
      "display_name": "Python 3"
    },
    "language_info": {
      "name": "python"
    }
  },
  "cells": [
    {
      "cell_type": "code",
      "metadata": {
        "id": "UBtZAEIRx4EI"
      },
      "source": [
        "import tensorflow as tf\n",
        "#import keras\n",
        "import numpy as np\n",
        "import pandas as pd\n",
        "from tensorflow.keras.models import Sequential\n",
        "from tensorflow.keras.layers import *\n",
        "import matplotlib.pyplot as plt\n",
        "import seaborn as sns"
      ],
      "execution_count": null,
      "outputs": []
    },
    {
      "cell_type": "code",
      "metadata": {
        "id": "jFq6PZ2CyHf-"
      },
      "source": [
        "train_data = pd.read_csv('https://firebasestorage.googleapis.com/v0/b/asl202020202030.appspot.com/o/sign_mnist_train.csv?alt=media&token=f27b368a-64cc-4081-849d-927f08f60e07')\n",
        "train_data"
      ],
      "execution_count": null,
      "outputs": []
    },
    {
      "cell_type": "code",
      "metadata": {
        "colab": {
          "base_uri": "https://localhost:8080/"
        },
        "id": "67P4Txwl0n24",
        "outputId": "6ef00446-6509-4d62-d24e-be95202a49d1"
      },
      "source": [
        "y_train= train_data['label'].values\n",
        "#len(set(y_train))\n",
        "y_train.shape"
      ],
      "execution_count": null,
      "outputs": [
        {
          "output_type": "execute_result",
          "data": {
            "text/plain": [
              "(27455,)"
            ]
          },
          "metadata": {},
          "execution_count": 3
        }
      ]
    },
    {
      "cell_type": "code",
      "metadata": {
        "id": "3Q3MlUZg07Wm"
      },
      "source": [
        "train_data.drop(\"label\",inplace=True,axis=1)"
      ],
      "execution_count": null,
      "outputs": []
    },
    {
      "cell_type": "code",
      "metadata": {
        "id": "OZwhgrSG6rzp"
      },
      "source": [
        "train_data"
      ],
      "execution_count": null,
      "outputs": []
    },
    {
      "cell_type": "code",
      "metadata": {
        "colab": {
          "base_uri": "https://localhost:8080/"
        },
        "id": "Md9lrnV41BLQ",
        "outputId": "33837c34-effa-4cf8-9d31-f313effcf054"
      },
      "source": [
        "x_train=train_data.values\n",
        "x_train.shape"
      ],
      "execution_count": null,
      "outputs": [
        {
          "output_type": "execute_result",
          "data": {
            "text/plain": [
              "(27455, 784)"
            ]
          },
          "metadata": {},
          "execution_count": 6
        }
      ]
    },
    {
      "cell_type": "code",
      "metadata": {
        "id": "Hljdx6zV2Ckw"
      },
      "source": [
        "test_data = pd.read_csv('https://firebasestorage.googleapis.com/v0/b/asl202020202030.appspot.com/o/sign_mnist_test.csv?alt=media&token=300f40d5-d39e-4df3-b43f-87ba5cc4d21c')"
      ],
      "execution_count": null,
      "outputs": []
    },
    {
      "cell_type": "code",
      "metadata": {
        "id": "yShWSULE8E49"
      },
      "source": [
        "test_data"
      ],
      "execution_count": null,
      "outputs": []
    },
    {
      "cell_type": "code",
      "metadata": {
        "id": "-rPDQ4sh9Cvk"
      },
      "source": [
        "y_test= test_data['label'].values"
      ],
      "execution_count": null,
      "outputs": []
    },
    {
      "cell_type": "code",
      "metadata": {
        "id": "nUL9J-hR9JY_"
      },
      "source": [
        "test_data.drop(\"label\",inplace=True,axis=1)"
      ],
      "execution_count": null,
      "outputs": []
    },
    {
      "cell_type": "code",
      "metadata": {
        "colab": {
          "base_uri": "https://localhost:8080/"
        },
        "id": "RQae2htM9Ss8",
        "outputId": "2a954717-0fa7-4309-962b-6573c1c32fc8"
      },
      "source": [
        "x_test=test_data.values\n",
        "x_test.shape"
      ],
      "execution_count": null,
      "outputs": [
        {
          "output_type": "execute_result",
          "data": {
            "text/plain": [
              "(7172, 784)"
            ]
          },
          "metadata": {},
          "execution_count": 11
        }
      ]
    },
    {
      "cell_type": "code",
      "metadata": {
        "id": "Sd5_Fy5aCN6U"
      },
      "source": [
        "plt.figure(figsize=(18,8))\n",
        "sns.countplot(x=y_train)"
      ],
      "execution_count": null,
      "outputs": []
    },
    {
      "cell_type": "code",
      "metadata": {
        "id": "dNssM15jGPdw"
      },
      "source": [
        "#reshape images\n",
        "images=x_train\n",
        "images = np.array([np.reshape(i, (28,28)) for i in x_train])\n",
        "images = np.array([i.flatten() for i in images])"
      ],
      "execution_count": null,
      "outputs": []
    },
    {
      "cell_type": "code",
      "metadata": {
        "id": "cbFKjpBuHWdt"
      },
      "source": [
        "from sklearn.preprocessing import LabelBinarizer\n",
        "\n",
        "label_binrizer = LabelBinarizer()\n",
        "y_train = label_binrizer.fit_transform(y_train)"
      ],
      "execution_count": null,
      "outputs": []
    },
    {
      "cell_type": "code",
      "metadata": {
        "colab": {
          "base_uri": "https://localhost:8080/"
        },
        "id": "tdBHEUPaHtEz",
        "outputId": "3b1b64fe-52cd-42d9-c770-7aa820024f50"
      },
      "source": [
        "y_train"
      ],
      "execution_count": null,
      "outputs": [
        {
          "output_type": "execute_result",
          "data": {
            "text/plain": [
              "array([[0, 0, 0, ..., 0, 0, 0],\n",
              "       [0, 0, 0, ..., 0, 0, 0],\n",
              "       [0, 0, 1, ..., 0, 0, 0],\n",
              "       ...,\n",
              "       [0, 0, 0, ..., 0, 0, 0],\n",
              "       [0, 0, 0, ..., 0, 0, 0],\n",
              "       [0, 0, 0, ..., 0, 1, 0]])"
            ]
          },
          "metadata": {},
          "execution_count": 15
        }
      ]
    },
    {
      "cell_type": "code",
      "metadata": {
        "colab": {
          "base_uri": "https://localhost:8080/"
        },
        "id": "hMAIopOSkLx5",
        "outputId": "9febf2d1-05f2-4269-c1da-3ab2be3755f0"
      },
      "source": [
        "len(y_train[0]), y_train.shape"
      ],
      "execution_count": null,
      "outputs": [
        {
          "output_type": "execute_result",
          "data": {
            "text/plain": [
              "(24, (27455, 24))"
            ]
          },
          "metadata": {},
          "execution_count": 16
        }
      ]
    },
    {
      "cell_type": "code",
      "metadata": {
        "colab": {
          "base_uri": "https://localhost:8080/",
          "height": 282
        },
        "id": "8Cf-vRbLJKum",
        "outputId": "d0628d2b-d977-4c2d-9b4b-72ca637e0715"
      },
      "source": [
        "#OPTIONAL\n",
        "#inspect image\n",
        "index = 2\n",
        "y_train[index]\n",
        "plt.imshow(images[index].reshape(28,28))"
      ],
      "execution_count": null,
      "outputs": [
        {
          "output_type": "execute_result",
          "data": {
            "text/plain": [
              "<matplotlib.image.AxesImage at 0x7ff036a9e150>"
            ]
          },
          "metadata": {},
          "execution_count": 17
        },
        {
          "output_type": "display_data",
          "data": {
            "image/png": "[encoded data removed]",
            "text/plain": [
              "<Figure size 432x288 with 1 Axes>"
            ]
          },
          "metadata": {
            "needs_background": "light"
          }
        }
      ]
    },
    {
      "cell_type": "code",
      "metadata": {
        "id": "5j-MCy8BLcOl"
      },
      "source": [
        "x_train=images"
      ],
      "execution_count": null,
      "outputs": []
    },
    {
      "cell_type": "code",
      "metadata": {
        "colab": {
          "base_uri": "https://localhost:8080/"
        },
        "id": "FAkV44A_lwUf",
        "outputId": "805a6685-69f1-40a9-ec2c-9c2290845669"
      },
      "source": [
        "x_train.shape, y_train.shape, images.shape"
      ],
      "execution_count": null,
      "outputs": [
        {
          "output_type": "execute_result",
          "data": {
            "text/plain": [
              "((27455, 784), (27455, 24), (27455, 784))"
            ]
          },
          "metadata": {},
          "execution_count": 19
        }
      ]
    },
    {
      "cell_type": "code",
      "metadata": {
        "id": "TeBtFoa5kanb"
      },
      "source": [
        "from sklearn.model_selection import train_test_split\n",
        "x_train, x_test, y_train, y_test = train_test_split(images, y_train, test_size=0.3, random_state=101)"
      ],
      "execution_count": null,
      "outputs": []
    },
    {
      "cell_type": "code",
      "metadata": {
        "id": "ueaK714-MQbq"
      },
      "source": [
        "batch_size=128\n",
        "num_classes = 24\n",
        "epochs=10"
      ],
      "execution_count": null,
      "outputs": []
    },
    {
      "cell_type": "code",
      "metadata": {
        "id": "y-VrAYlLMnGW"
      },
      "source": [
        "#normalise \n",
        "x_train = x_train / 255\n",
        "x_test = x_test / 255"
      ],
      "execution_count": null,
      "outputs": []
    },
    {
      "cell_type": "code",
      "metadata": {
        "id": "I7BHYgvANP4H"
      },
      "source": [
        "#reshape to fit into keras and tf\n",
        "x_train = x_train.reshape(x_train.shape[0],28,28,1)\n",
        "x_test = x_test.reshape(x_test.shape[0],28,28,1)\n",
        "\n",
        "#plt.imshow(x_train[100].reshape(28,28))"
      ],
      "execution_count": null,
      "outputs": []
    },
    {
      "cell_type": "code",
      "metadata": {
        "id": "XdQq8-8DRs3t"
      },
      "source": [
        "model = Sequential()\n",
        "model.add(Conv2D(32,kernel_size=(3,3),activation=\"relu\",input_shape=(28, 28, 1)))\n",
        "model.add(MaxPooling2D(pool_size=(2, 2)))\n",
        "model.add(Conv2D(64, kernel_size=(3, 3), activation='relu'))\n",
        "model.add(MaxPooling2D(pool_size=(2, 2)))\n",
        "model.add(Conv2D(128, kernel_size=(3, 3), activation='relu'))\n",
        "#model.add(MaxPooling2D(pool_size=(2,2)))\n",
        "model.add(Flatten())\n",
        "model.add(Dense(64, activation='relu'))\n",
        "#model.add(Dropout(0.20))\n",
        "model.add(Dense(num_classes,activation='softmax'))"
      ],
      "execution_count": null,
      "outputs": []
    },
    {
      "cell_type": "code",
      "metadata": {
        "id": "gOGWFLhXXOeo"
      },
      "source": [
        "model.summary()"
      ],
      "execution_count": null,
      "outputs": []
    },
    {
      "cell_type": "code",
      "metadata": {
        "id": "Y-Yti9mRSGYk"
      },
      "source": [
        "from tensorflow.keras.optimizers import Adam \n",
        "#from tensorflow.keras import backend as keras\n",
        "#from keras.models import load_model\n",
        "\n",
        "model.compile(loss='categorical_crossentropy',\n",
        "              optimizer=Adam(),\n",
        "              metrics=['accuracy'])"
      ],
      "execution_count": null,
      "outputs": []
    },
    {
      "cell_type": "code",
      "metadata": {
        "colab": {
          "base_uri": "https://localhost:8080/"
        },
        "id": "x1dMOWSthYhm",
        "outputId": "bd8fc2cf-47a8-472f-b36e-faa773a03feb"
      },
      "source": [
        "y_train.shape, x_train.shape, x_test.shape, y_test.shape"
      ],
      "execution_count": null,
      "outputs": [
        {
          "output_type": "execute_result",
          "data": {
            "text/plain": [
              "((19218, 24), (19218, 28, 28, 1), (8237, 28, 28, 1), (8237, 24))"
            ]
          },
          "metadata": {},
          "execution_count": 38
        }
      ]
    },
    {
      "cell_type": "code",
      "metadata": {
        "colab": {
          "base_uri": "https://localhost:8080/"
        },
        "id": "-6XFWvphhlYk",
        "outputId": "2be96ea4-559c-4239-cda9-b124b8d56c94"
      },
      "source": [
        "y_train"
      ],
      "execution_count": null,
      "outputs": [
        {
          "output_type": "execute_result",
          "data": {
            "text/plain": [
              "array([[1, 0, 0, ..., 0, 0, 0],\n",
              "       [0, 0, 0, ..., 0, 0, 0],\n",
              "       [0, 0, 0, ..., 0, 0, 0],\n",
              "       ...,\n",
              "       [0, 0, 0, ..., 0, 0, 0],\n",
              "       [1, 0, 0, ..., 0, 0, 0],\n",
              "       [0, 0, 0, ..., 0, 0, 0]])"
            ]
          },
          "metadata": {},
          "execution_count": 39
        }
      ]
    },
    {
      "cell_type": "code",
      "metadata": {
        "colab": {
          "base_uri": "https://localhost:8080/"
        },
        "id": "aq5k9KktSRmG",
        "outputId": "b291f7f1-0e16-4fd1-f69e-465372ec4c08"
      },
      "source": [
        "history = model.fit(x_train, y_train, validation_data=(x_train,y_train),  epochs=epochs, batch_size=batch_size)"
      ],
      "execution_count": null,
      "outputs": [
        {
          "output_type": "stream",
          "name": "stdout",
          "text": [
            "Epoch 1/10\n",
            "151/151 [==============================] - 16s 101ms/step - loss: 1.9817 - accuracy: 0.4072 - val_loss: 0.9028 - val_accuracy: 0.6926\n",
            "Epoch 2/10\n",
            "151/151 [==============================] - 15s 100ms/step - loss: 0.5608 - accuracy: 0.8220 - val_loss: 0.3580 - val_accuracy: 0.8797\n",
            "Epoch 3/10\n",
            "151/151 [==============================] - 15s 101ms/step - loss: 0.2339 - accuracy: 0.9299 - val_loss: 0.1401 - val_accuracy: 0.9651\n",
            "Epoch 4/10\n",
            "151/151 [==============================] - 15s 101ms/step - loss: 0.1017 - accuracy: 0.9749 - val_loss: 0.1042 - val_accuracy: 0.9689\n",
            "Epoch 5/10\n",
            "151/151 [==============================] - 15s 101ms/step - loss: 0.0539 - accuracy: 0.9884 - val_loss: 0.0391 - val_accuracy: 0.9934\n",
            "Epoch 6/10\n",
            "151/151 [==============================] - 15s 101ms/step - loss: 0.0247 - accuracy: 0.9966 - val_loss: 0.0166 - val_accuracy: 0.9979\n",
            "Epoch 7/10\n",
            "151/151 [==============================] - 15s 101ms/step - loss: 0.0121 - accuracy: 0.9990 - val_loss: 0.0222 - val_accuracy: 0.9946\n",
            "Epoch 8/10\n",
            "151/151 [==============================] - 15s 101ms/step - loss: 0.0078 - accuracy: 0.9996 - val_loss: 0.0049 - val_accuracy: 0.9999\n",
            "Epoch 9/10\n",
            "151/151 [==============================] - 15s 102ms/step - loss: 0.0061 - accuracy: 0.9993 - val_loss: 0.0078 - val_accuracy: 0.9990\n",
            "Epoch 10/10\n",
            "151/151 [==============================] - 15s 102ms/step - loss: 0.0047 - accuracy: 0.9998 - val_loss: 0.0021 - val_accuracy: 1.0000\n"
          ]
        }
      ]
    },
    {
      "cell_type": "code",
      "metadata": {
        "id": "HYLdLRxUru2e"
      },
      "source": [
        "test_loss, test_acc = model.evaluate(x_test,y_test, verbose=2)"
      ],
      "execution_count": null,
      "outputs": []
    },
    {
      "cell_type": "code",
      "metadata": {
        "colab": {
          "base_uri": "https://localhost:8080/",
          "height": 283
        },
        "id": "hWjYY5pHc7Qe",
        "outputId": "eb888d8c-a456-43a2-a018-0be5704c8e15"
      },
      "source": [
        "plt.plot(history.history['accuracy'], label='accuracy')\n",
        "plt.plot(history.history['val_accuracy'], label = 'val_accuracy')\n",
        "plt.xlabel('Epoch')\n",
        "plt.ylabel('Accuracy')\n",
        "plt.ylim([0.5, 1])\n",
        "plt.legend(['train','test'])\n",
        "plt.show()\n",
        "#test_loss, test_acc = model.evaluate(x_test,y_test, verbose=2)"
      ],
      "execution_count": null,
      "outputs": [
        {
          "output_type": "display_data",
          "data": {
            "image/png": "[encoded data removed]",
            "text/plain": [
              "<Figure size 432x288 with 1 Axes>"
            ]
          },
          "metadata": {
            "needs_background": "light"
          }
        }
      ]
    },
    {
      "cell_type": "code",
      "metadata": {
        "id": "7XillWjcrTEG"
      },
      "source": [
        "test_data = pd.read_csv('https://firebasestorage.googleapis.com/v0/b/asl202020202030.appspot.com/o/sign_mnist_test.csv?alt=media&token=300f40d5-d39e-4df3-b43f-87ba5cc4d21c')\n",
        "y_test= test_data['label'].values\n",
        "test_data.drop(\"label\",inplace=True,axis=1)\n",
        "x_test=test_data.values"
      ],
      "execution_count": null,
      "outputs": []
    },
    {
      "cell_type": "code",
      "metadata": {
        "id": "eFDmTnnSozyl"
      },
      "source": [
        "#evaluate it on unseen data \n",
        "x_test = np.array([np.reshape(i, (28,28)) for i in x_test])\n",
        "x_test = np.array([i.flatten() for i in x_test])\n",
        "\n",
        "y_test = label_binrizer.fit_transform(y_test)\n",
        "\n",
        "x_test = x_test.reshape(x_test.shape[0], 28,28,1)\n",
        "x_test.shape\n",
        "y_pred = model.predict(x_test)"
      ],
      "execution_count": null,
      "outputs": []
    },
    {
      "cell_type": "code",
      "metadata": {
        "colab": {
          "base_uri": "https://localhost:8080/"
        },
        "id": "3n7LnhVIo01V",
        "outputId": "cdb6a2af-be31-453e-dfbd-420c6996fba6"
      },
      "source": [
        "from sklearn.metrics import accuracy_score\n",
        "\n",
        "accuracy_score(y_test, y_pred.round())"
      ],
      "execution_count": null,
      "outputs": [
        {
          "output_type": "execute_result",
          "data": {
            "text/plain": [
              "0.8593139988845511"
            ]
          },
          "metadata": {},
          "execution_count": 46
        }
      ]
    }
  ]
}