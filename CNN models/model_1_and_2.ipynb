{
  "nbformat": 4,
  "nbformat_minor": 0,
  "metadata": {
    "accelerator": "GPU",
    "colab": {
      "name": "725_Project_dataset2.ipynb",
      "provenance": []
    },
    "kernelspec": {
      "display_name": "Python 3",
      "name": "python3"
    },
    "language_info": {
      "name": "python"
    }
  },
  "cells": [
    {
      "cell_type": "code",
      "metadata": {
        "id": "omhbtPPETdeV"
      },
      "source": [
        "from io import BytesIO\n",
        "from urllib.request import urlopen\n",
        "from zipfile import ZipFile\n",
        "url = \"http://grafins.com/ml/compressed_data.zip\"\n",
        "with urlopen(url) as zipresp:\n",
        "    with ZipFile(BytesIO(zipresp.read())) as zfile:\n",
        "        zfile.extractall('.')"
      ],
      "execution_count": null,
      "outputs": []
    },
    {
      "cell_type": "code",
      "metadata": {
        "id": "7GI1DiBZiu99"
      },
      "source": [
        "#imports\n",
        "import numpy as np\n",
        "import pandas as pd \n",
        "import os\n",
        "import cv2\n",
        "import tensorflow as tf\n",
        "import keras\n",
        "from keras.models import Sequential\n",
        "from keras.layers import *\n",
        "import matplotlib.pyplot as plt\n",
        "import math\n",
        "import random"
      ],
      "execution_count": null,
      "outputs": []
    },
    {
      "cell_type": "code",
      "metadata": {
        "id": "ZBhffl10T1vj"
      },
      "source": [
        "labels = [\"A\", \"B\", \"C\", \"D\", \"E\", \"F\", \"G\", \"H\", \"I\", \"J\", \"K\", \"L\", \"M\", \"N\", \"O\", \"P\", \"Q\", \"R\", \"S\", \"T\", \"U\", \"V\", \"W\", \"X\", \"Y\", \"Z\"]\n",
        "data_dir = './compressed_data/train/'\n",
        "img_size = 50\n",
        "def get_data():\n",
        "  data = []\n",
        "  x_data = []\n",
        "  y_data = []\n",
        "  i=0;\n",
        "  for label in labels:\n",
        "    path = os.path.join(data_dir,label)\n",
        "    print(\"Extracting\",label)\n",
        "    for img in os.listdir(path):\n",
        "      try:\n",
        "        image = cv2.imread(os.path.join(path,img),0)\n",
        "        image = cv2.resize(image,(img_size,img_size))\n",
        "        data.append([image,i])\n",
        "      except Exception as e:\n",
        "        print(e)\n",
        "    i+=1\n",
        "  random.shuffle(data)\n",
        "  for d in data:\n",
        "    x_data.append(d[0])\n",
        "    y_data.append(d[1])\n",
        "  print(len(x_data),len(y_data))\n",
        "  return np.array(x_data),np.array(y_data),len(x_data)\n",
        "\n",
        "  \n",
        "\n"
      ],
      "execution_count": null,
      "outputs": []
    },
    {
      "cell_type": "code",
      "metadata": {
        "colab": {
          "base_uri": "https://localhost:8080/"
        },
        "id": "RrRMiT5jnJJf",
        "outputId": "86b8fa79-5611-4b68-abe5-806a17cfadba"
      },
      "source": [
        "  x, y, size = get_data()"
      ],
      "execution_count": null,
      "outputs": [
        {
          "name": "stdout",
          "output_type": "stream",
          "text": [
            "Extracting A\n",
            "Extracting B\n",
            "Extracting C\n",
            "Extracting D\n",
            "Extracting E\n",
            "Extracting F\n",
            "Extracting G\n",
            "Extracting H\n",
            "Extracting I\n",
            "Extracting J\n",
            "Extracting K\n",
            "Extracting L\n",
            "Extracting M\n",
            "Extracting N\n",
            "Extracting O\n",
            "Extracting P\n",
            "Extracting Q\n",
            "Extracting R\n",
            "Extracting S\n",
            "Extracting T\n",
            "Extracting U\n",
            "Extracting V\n",
            "Extracting W\n",
            "Extracting X\n",
            "Extracting Y\n",
            "Extracting Z\n",
            "78000 78000\n"
          ]
        }
      ]
    },
    {
      "cell_type": "code",
      "metadata": {
        "id": "u2Bh1c4nnPfE"
      },
      "source": [
        "split = math.ceil(size*0.9)\n",
        "x_train = x[:split]\n",
        "y_train = y[:split]\n",
        "x_test = x[split:]\n",
        "y_test = y[split:]"
      ],
      "execution_count": null,
      "outputs": []
    },
    {
      "cell_type": "code",
      "metadata": {
        "colab": {
          "base_uri": "https://localhost:8080/"
        },
        "id": "tBtfe3W76IC0",
        "outputId": "694b20dc-096a-4163-b27b-bb8bdb840590"
      },
      "source": [
        "print(y_test)"
      ],
      "execution_count": null,
      "outputs": [
        {
          "name": "stdout",
          "output_type": "stream",
          "text": [
            "[ 5 11 14 ... 25 12 24]\n"
          ]
        }
      ]
    },
    {
      "cell_type": "code",
      "metadata": {
        "id": "8dIXHsqRmz6O"
      },
      "source": [
        "model = Sequential([Conv2D(32,(5,5),activation=\"relu\",input_shape=(img_size,img_size,1))])\n",
        "model.add(MaxPooling2D((2, 2)))\n",
        "model.add(Conv2D(64, (3, 3), activation='relu'))\n",
        "model.add(MaxPooling2D((2, 2)))\n",
        "model.add(Conv2D(64, (3, 3), activation='relu'))\n",
        "model.add(Flatten())\n",
        "model.add(Dense(64, activation='relu'))\n",
        "model.add(Dense(26,activation='softmax'))\n",
        "\n"
      ],
      "execution_count": null,
      "outputs": []
    },
    {
      "cell_type": "code",
      "metadata": {
        "colab": {
          "base_uri": "https://localhost:8080/"
        },
        "id": "eX8VJhAvm7AL",
        "outputId": "e9337d05-8acf-471f-c1da-68ce4c47d55d"
      },
      "source": [
        "model.summary()"
      ],
      "execution_count": null,
      "outputs": [
        {
          "name": "stdout",
          "output_type": "stream",
          "text": [
            "Model: \"sequential\"\n",
            "_________________________________________________________________\n",
            " Layer (type)                Output Shape              Param #   \n",
            "=================================================================\n",
            " conv2d (Conv2D)             (None, 46, 46, 32)        832       \n",
            "                                                                 \n",
            " max_pooling2d (MaxPooling2D  (None, 23, 23, 32)       0         \n",
            " )                                                               \n",
            "                                                                 \n",
            " conv2d_1 (Conv2D)           (None, 21, 21, 64)        18496     \n",
            "                                                                 \n",
            " max_pooling2d_1 (MaxPooling  (None, 10, 10, 64)       0         \n",
            " 2D)                                                             \n",
            "                                                                 \n",
            " conv2d_2 (Conv2D)           (None, 8, 8, 64)          36928     \n",
            "                                                                 \n",
            " flatten (Flatten)           (None, 4096)              0         \n",
            "                                                                 \n",
            " dense (Dense)               (None, 64)                262208    \n",
            "                                                                 \n",
            " dense_1 (Dense)             (None, 26)                1690      \n",
            "                                                                 \n",
            "=================================================================\n",
            "Total params: 320,154\n",
            "Trainable params: 320,154\n",
            "Non-trainable params: 0\n",
            "_________________________________________________________________\n"
          ]
        }
      ]
    },
    {
      "cell_type": "code",
      "metadata": {
        "id": "_9vDb90Em57v"
      },
      "source": [
        "model.compile(optimizer='adam',\n",
        "              loss=keras.losses.SparseCategoricalCrossentropy(),\n",
        "              metrics=['accuracy'])"
      ],
      "execution_count": null,
      "outputs": []
    },
    {
      "cell_type": "code",
      "metadata": {
        "colab": {
          "base_uri": "https://localhost:8080/"
        },
        "id": "MBOsNmRVm-9A",
        "outputId": "66d3ca4a-bf3e-410f-85c1-283bef55b0ac"
      },
      "source": [
        "history = model.fit(x_train, y_train, epochs=10, validation_split = 0.2)"
      ],
      "execution_count": null,
      "outputs": [
        {
          "name": "stdout",
          "output_type": "stream",
          "text": [
            "Epoch 1/10\n",
            "1755/1755 [==============================] - 52s 13ms/step - loss: 1.4257 - accuracy: 0.6014 - val_loss: 0.3380 - val_accuracy: 0.8871\n",
            "Epoch 2/10\n",
            "1755/1755 [==============================] - 22s 12ms/step - loss: 0.2407 - accuracy: 0.9177 - val_loss: 0.1300 - val_accuracy: 0.9580\n",
            "Epoch 3/10\n",
            "1755/1755 [==============================] - 22s 13ms/step - loss: 0.1565 - accuracy: 0.9506 - val_loss: 0.1173 - val_accuracy: 0.9616\n",
            "Epoch 4/10\n",
            "1755/1755 [==============================] - 22s 13ms/step - loss: 0.1189 - accuracy: 0.9634 - val_loss: 0.1182 - val_accuracy: 0.9616\n",
            "Epoch 5/10\n",
            "1755/1755 [==============================] - 22s 13ms/step - loss: 0.1002 - accuracy: 0.9693 - val_loss: 0.0706 - val_accuracy: 0.9774\n",
            "Epoch 6/10\n",
            "1755/1755 [==============================] - 22s 12ms/step - loss: 0.0807 - accuracy: 0.9774 - val_loss: 0.1889 - val_accuracy: 0.9573\n",
            "Epoch 7/10\n",
            "1755/1755 [==============================] - 21s 12ms/step - loss: 0.0888 - accuracy: 0.9758 - val_loss: 0.0658 - val_accuracy: 0.9801\n",
            "Epoch 8/10\n",
            "1755/1755 [==============================] - 22s 12ms/step - loss: 0.0749 - accuracy: 0.9808 - val_loss: 0.0795 - val_accuracy: 0.9770\n",
            "Epoch 9/10\n",
            "1755/1755 [==============================] - 21s 12ms/step - loss: 0.0781 - accuracy: 0.9814 - val_loss: 0.1155 - val_accuracy: 0.9742\n",
            "Epoch 10/10\n",
            "1755/1755 [==============================] - 21s 12ms/step - loss: 0.0697 - accuracy: 0.9830 - val_loss: 0.0855 - val_accuracy: 0.9787\n"
          ]
        }
      ]
    },
    {
      "cell_type": "code",
      "metadata": {
        "colab": {
          "base_uri": "https://localhost:8080/"
        },
        "id": "nlFOwwrJnCT4",
        "outputId": "fe24e8c8-5584-4326-9a96-d88f8a2dcda3"
      },
      "source": [
        "#np.seterr(divide = 'ignore') \n",
        "model.evaluate(x_test,y_test)"
      ],
      "execution_count": null,
      "outputs": [
        {
          "name": "stdout",
          "output_type": "stream",
          "text": [
            "244/244 [==============================] - 1s 6ms/step - loss: 0.0952 - accuracy: 0.9749\n"
          ]
        },
        {
          "data": {
            "text/plain": [
              "[0.0951530858874321, 0.974871814250946]"
            ]
          },
          "execution_count": 10,
          "metadata": {},
          "output_type": "execute_result"
        }
      ]
    },
    {
      "cell_type": "code",
      "metadata": {
        "colab": {
          "base_uri": "https://localhost:8080/",
          "height": 300
        },
        "id": "zKqWlxpLnFfd",
        "outputId": "039ef119-5a69-4f59-8161-1e27b372ba9c"
      },
      "source": [
        "plt.plot(history.history['accuracy'], label='accuracy')\n",
        "plt.plot(history.history['val_accuracy'], label = 'val_accuracy')\n",
        "plt.xlabel('Epoch')\n",
        "plt.ylabel('Accuracy')\n",
        "plt.ylim([0.5, 1])\n",
        "plt.legend(loc='lower right')\n",
        "\n",
        "#test_loss, test_acc = model.evaluate(x_test,y_test, verbose=2)"
      ],
      "execution_count": null,
      "outputs": [
        {
          "data": {
            "text/plain": [
              "<matplotlib.legend.Legend at 0x7f9be7290490>"
            ]
          },
          "execution_count": 11,
          "metadata": {},
          "output_type": "execute_result"
        },
        {
          "data": {
            "image/png": "[encoded data removed]",
            "text/plain": [
              "<Figure size 432x288 with 1 Axes>"
            ]
          },
          "metadata": {},
          "output_type": "display_data"
        }
      ]
    },
    {
      "cell_type": "code",
      "metadata": {
        "colab": {
          "base_uri": "https://localhost:8080/",
          "height": 296
        },
        "id": "2tjaIi9_35WU",
        "outputId": "14f44160-520b-4db4-dc13-a86a481281bd"
      },
      "source": [
        "plt.plot(history.history['loss'], label='loss')\n",
        "plt.plot(history.history['val_loss'], label = 'val_loss')\n",
        "plt.xlabel('Epoch')\n",
        "plt.ylabel('loss')\n",
        "plt.legend(loc='upper right')"
      ],
      "execution_count": null,
      "outputs": [
        {
          "data": {
            "text/plain": [
              "<matplotlib.legend.Legend at 0x7f9be6a2b8d0>"
            ]
          },
          "execution_count": 12,
          "metadata": {},
          "output_type": "execute_result"
        },
        {
          "data": {
            "image/png": "[encoded data removed]",
            "text/plain": [
              "<Figure size 432x288 with 1 Axes>"
            ]
          },
          "metadata": {},
          "output_type": "display_data"
        }
      ]
    },
    {
      "cell_type": "code",
      "metadata": {
        "colab": {
          "base_uri": "https://localhost:8080/"
        },
        "id": "yxqOF0bQucWm",
        "outputId": "54f3fe82-16c1-429e-ef6d-7f873be97d17"
      },
      "source": [
        "history.history"
      ],
      "execution_count": null,
      "outputs": [
        {
          "data": {
            "text/plain": [
              "{'accuracy': [0.6405649185180664,\n",
              "  0.924919843673706,\n",
              "  0.9566506147384644,\n",
              "  0.9645032286643982,\n",
              "  0.9698517918586731],\n",
              " 'loss': [1.2358390092849731,\n",
              "  0.2306492179632187,\n",
              "  0.13528242707252502,\n",
              "  0.11964049935340881,\n",
              "  0.1080845445394516],\n",
              " 'val_accuracy': [0.8644230961799622,\n",
              "  0.956250011920929,\n",
              "  0.9715544581413269,\n",
              "  0.9492788314819336,\n",
              "  0.9713942408561707],\n",
              " 'val_loss': [0.40244555473327637,\n",
              "  0.14224538207054138,\n",
              "  0.09039025753736496,\n",
              "  0.16312731802463531,\n",
              "  0.08727652579545975]}"
            ]
          },
          "execution_count": 13,
          "metadata": {},
          "output_type": "execute_result"
        }
      ]
    },
    {
      "cell_type": "code",
      "metadata": {
        "id": "Aszit3lwmAUG"
      },
      "source": [
        "model1 = Sequential([Conv2D(32,(5,5),activation=\"relu\",input_shape=(img_size,img_size,1))])\n",
        "model1.add(MaxPooling2D((2, 2)))\n",
        "model1.add(Conv2D(64, (3, 3), activation='relu'))\n",
        "model1.add(MaxPooling2D((2, 2)))\n",
        "model1.add(Conv2D(64, (3, 3), activation='relu'))\n",
        "model1.add(Flatten())\n",
        "model1.add(Dense(64, activation='relu'))\n",
        "model1.add(Dense(26,activation='softmax'))\n",
        "\n"
      ],
      "execution_count": null,
      "outputs": []
    },
    {
      "cell_type": "code",
      "metadata": {
        "id": "lxIQfZnfoHrJ"
      },
      "source": [
        "model1=Sequential([])\n",
        "\n",
        "model1.add(Conv2D(64,(3,3),activation=\"relu\",input_shape=(img_size,img_size,1)))\n",
        "model1.add(BatchNormalization())\n",
        "model1.add(Conv2D(64,(3,3),activation=\"relu\",input_shape=(img_size,img_size,1)))\n",
        "model1.add(BatchNormalization())\n",
        "model1.add(MaxPooling2D(2,2))\n",
        "model1.add(Conv2D(128,(3,3),activation=\"relu\"))\n",
        "model1.add(BatchNormalization())\n",
        "model1.add(Conv2D(128,(3,3),activation=\"relu\"))\n",
        "model1.add(BatchNormalization())\n",
        "model1.add(MaxPooling2D(2,2))\n",
        "model1.add(Flatten())\n",
        "model1.add(BatchNormalization())\n",
        "model1.add(Dense(256,activation=\"relu\"))\n",
        "model1.add(BatchNormalization())\n",
        "model1.add(Dense(26,activation=\"softmax\"))"
      ],
      "execution_count": null,
      "outputs": []
    },
    {
      "cell_type": "code",
      "metadata": {
        "id": "sLHmChwVoX0A"
      },
      "source": [
        "model1.summary()"
      ],
      "execution_count": null,
      "outputs": []
    },
    {
      "cell_type": "code",
      "metadata": {
        "id": "AyRuKy6mofVL"
      },
      "source": [
        "model1.compile(loss=\"sparse_categorical_crossentropy\",optimizer='adam',metrics=['accuracy'])"
      ],
      "execution_count": null,
      "outputs": []
    },
    {
      "cell_type": "code",
      "metadata": {
        "id": "mthQvNvUolki"
      },
      "source": [
        "model1.summary()"
      ],
      "execution_count": null,
      "outputs": []
    },
    {
      "cell_type": "code",
      "metadata": {
        "id": "nqtuaYb4oo5_"
      },
      "source": [
        "from keras.callbacks import *\n",
        "class myCallback(Callback):\n",
        "  def on_epoch_end(self, epoch, logs={}):\n",
        "    if(logs.get('val_accuracy')>0.995):\n",
        "      print(\"\\nReached 99.5% accuracy so cancelling training!\")\n",
        "      self.model.stop_training = True\n",
        "callback=myCallback()"
      ],
      "execution_count": null,
      "outputs": []
    },
    {
      "cell_type": "code",
      "metadata": {
        "id": "I1UWC2h9o5k0"
      },
      "source": [
        "annealer = LearningRateScheduler(lambda x: 1e-3 * 0.95 ** x)"
      ],
      "execution_count": null,
      "outputs": []
    },
    {
      "cell_type": "code",
      "metadata": {
        "colab": {
          "background_save": true,
          "base_uri": "https://localhost:8080/"
        },
        "id": "zvqqUIojo_YN",
        "outputId": "44027375-bbff-4cfe-8f02-b1a696ef78d5"
      },
      "source": [
        "history=model1.fit(x_train, y_train, epochs=10, validation_split = 0.2,callbacks=[callback,annealer])"
      ],
      "execution_count": null,
      "outputs": [
        {
          "name": "stdout",
          "output_type": "stream",
          "text": [
            "Epoch 1/10\n",
            "   5/1755 [..............................] - ETA: 1:13 - loss: 4.4130 - accuracy: 0.0688WARNING:tensorflow:Callback method `on_train_batch_end` is slow compared to the batch time (batch time: 0.0081s vs `on_train_batch_end` time: 0.0326s). Check your callbacks.\n",
            "1755/1755 [==============================] - 64s 36ms/step - loss: 0.4916 - accuracy: 0.8543 - val_loss: 0.5876 - val_accuracy: 0.8135 - lr: 0.0010\n",
            "Epoch 2/10\n",
            "1755/1755 [==============================] - 63s 36ms/step - loss: 0.0699 - accuracy: 0.9794 - val_loss: 0.2226 - val_accuracy: 0.9325 - lr: 9.5000e-04\n",
            "Epoch 3/10\n",
            "1755/1755 [==============================] - 64s 36ms/step - loss: 0.0460 - accuracy: 0.9862 - val_loss: 0.1842 - val_accuracy: 0.9431 - lr: 9.0250e-04\n",
            "Epoch 4/10\n",
            "1755/1755 [==============================] - 64s 36ms/step - loss: 0.0268 - accuracy: 0.9922 - val_loss: 0.0456 - val_accuracy: 0.9850 - lr: 8.5737e-04\n",
            "Epoch 5/10\n",
            "1755/1755 [==============================] - 63s 36ms/step - loss: 0.0250 - accuracy: 0.9923 - val_loss: 0.1482 - val_accuracy: 0.9619 - lr: 8.1451e-04\n",
            "Epoch 6/10\n",
            "1755/1755 [==============================] - 63s 36ms/step - loss: 0.0130 - accuracy: 0.9961 - val_loss: 1.6183 - val_accuracy: 0.6589 - lr: 7.7378e-04\n",
            "Epoch 7/10\n",
            "1755/1755 [==============================] - 63s 36ms/step - loss: 0.0202 - accuracy: 0.9940 - val_loss: 0.0551 - val_accuracy: 0.9854 - lr: 7.3509e-04\n",
            "Epoch 8/10\n",
            "1755/1755 [==============================] - 63s 36ms/step - loss: 0.0117 - accuracy: 0.9962 - val_loss: 0.0525 - val_accuracy: 0.9920 - lr: 6.9834e-04\n",
            "Epoch 9/10\n",
            "1755/1755 [==============================] - 63s 36ms/step - loss: 0.0081 - accuracy: 0.9974 - val_loss: 0.3525 - val_accuracy: 0.9744 - lr: 6.6342e-04\n",
            "Epoch 10/10\n",
            "1755/1755 [==============================] - 63s 36ms/step - loss: 0.0087 - accuracy: 0.9975 - val_loss: 1.6984 - val_accuracy: 0.7742 - lr: 6.3025e-04\n"
          ]
        }
      ]
    },
    {
      "cell_type": "code",
      "metadata": {
        "colab": {
          "base_uri": "https://localhost:8080/"
        },
        "id": "MIGmMFW2CIxY",
        "outputId": "a8f1becd-2fb0-4fbc-8e53-87c348554b07"
      },
      "source": [
        "model1.save(\"asl_recognition_2.h5\")\n",
        "print(\"model 2 saved\")"
      ],
      "execution_count": null,
      "outputs": [
        {
          "name": "stdout",
          "output_type": "stream",
          "text": [
            "model 2 saved\n"
          ]
        }
      ]
    },
    {
      "cell_type": "code",
      "metadata": {
        "colab": {
          "base_uri": "https://localhost:8080/"
        },
        "id": "Q5LfTJlMHee5",
        "outputId": "85c2d11d-127c-4d2f-87bb-923446a80c18"
      },
      "source": [
        "model1.evaluate(x_test,y_test)"
      ],
      "execution_count": null,
      "outputs": [
        {
          "name": "stdout",
          "output_type": "stream",
          "text": [
            "244/244 [==============================] - 3s 13ms/step - loss: 0.0081 - accuracy: 0.9968\n"
          ]
        },
        {
          "data": {
            "text/plain": [
              "[0.008114217780530453, 0.9967948794364929]"
            ]
          },
          "execution_count": 14,
          "metadata": {},
          "output_type": "execute_result"
        }
      ]
    },
    {
      "cell_type": "code",
      "metadata": {
        "id": "28zn9IuhcHZ4"
      },
      "source": [
        "from keras.preprocessing.image import ImageDataGenerator"
      ],
      "execution_count": null,
      "outputs": []
    },
    {
      "cell_type": "code",
      "metadata": {
        "id": "SFFI5LW6cLlC"
      },
      "source": [
        "traingen=ImageDataGenerator(rotation_range=20,zoom_range=0.1,width_shift_range=0.1,height_shift_range=0.1,\n",
        "                  shear_range=0.1,horizontal_flip=True,rescale=1/255.0,validation_split=0.1)"
      ],
      "execution_count": null,
      "outputs": []
    },
    {
      "cell_type": "code",
      "metadata": {
        "colab": {
          "base_uri": "https://localhost:8080/",
          "height": 296
        },
        "id": "atwbsOkG7o6h",
        "outputId": "e670b160-5fb1-41c4-deff-66096cc8ce6f"
      },
      "source": [
        "plt.plot(history.history['accuracy'], label='accuracy')\n",
        "plt.plot(history.history['val_accuracy'], label = 'val_accuracy')\n",
        "plt.xlabel('Epoch')\n",
        "plt.ylabel('Accuracy')\n",
        "\n",
        "plt.legend(loc='lower right')\n",
        "\n",
        "#test_loss, test_acc = model.evaluate(x_test,y_test, verbose=2)"
      ],
      "execution_count": null,
      "outputs": [
        {
          "data": {
            "text/plain": [
              "<matplotlib.legend.Legend at 0x7f9be6ce1f10>"
            ]
          },
          "execution_count": 24,
          "metadata": {},
          "output_type": "execute_result"
        },
        {
          "data": {
            "image/png": "[encoded data removed]",
            "text/plain": [
              "<Figure size 432x288 with 1 Axes>"
            ]
          },
          "metadata": {},
          "output_type": "display_data"
        }
      ]
    },
    {
      "cell_type": "code",
      "metadata": {
        "colab": {
          "base_uri": "https://localhost:8080/",
          "height": 296
        },
        "id": "vN1vpB2z7wE-",
        "outputId": "a0d6be4e-dd63-466c-eadd-dbe49c6895cf"
      },
      "source": [
        "plt.plot(history.history['loss'], label='loss')\n",
        "plt.plot(history.history['val_loss'], label = 'val_loss')\n",
        "plt.xlabel('Epoch')\n",
        "plt.ylabel('loss')\n",
        "plt.legend(loc='upper right')"
      ],
      "execution_count": null,
      "outputs": [
        {
          "data": {
            "text/plain": [
              "<matplotlib.legend.Legend at 0x7f9be6840f50>"
            ]
          },
          "execution_count": 25,
          "metadata": {},
          "output_type": "execute_result"
        },
        {
          "data": {
            "image/png": "[encoded data removed]",
            "text/plain": [
              "<Figure size 432x288 with 1 Axes>"
            ]
          },
          "metadata": {},
          "output_type": "display_data"
        }
      ]
    },
    {
      "cell_type": "code",
      "metadata": {
        "colab": {
          "base_uri": "https://localhost:8080/"
        },
        "id": "7qiT-9ni7ATP",
        "outputId": "52d9d8d4-294d-4c26-e9c9-28becbb5542d"
      },
      "source": [
        "counts = [0]*26\n",
        "success = [0]*26\n",
        "predictions = model1.predict(x_test)\n",
        "for i in range(len(predictions)):\n",
        "  counts[y_test[i]]+=1\n",
        "  if y_test[i] == list(predictions[i]).index(max(predictions[i])):\n",
        "    success[y_test[i]]+=1\n",
        "\n",
        "for i in range(26):\n",
        "  print(labels[i],success[i]/counts[i])"
      ],
      "execution_count": null,
      "outputs": [
        {
          "name": "stdout",
          "output_type": "stream",
          "text": [
            "[286, 292, 314, 288, 302, 277, 269, 296, 296, 275, 323, 303, 301, 306, 291, 318, 276, 298, 306, 352, 309, 286, 319, 316, 274, 327]\n",
            "[285, 291, 314, 288, 302, 277, 266, 296, 295, 275, 323, 302, 299, 306, 289, 318, 276, 295, 306, 352, 309, 284, 314, 312, 274, 327]\n",
            "A 0.9965034965034965\n",
            "B 0.9965753424657534\n",
            "C 1.0\n",
            "D 1.0\n",
            "E 1.0\n",
            "F 1.0\n",
            "G 0.9888475836431226\n",
            "H 1.0\n",
            "I 0.9966216216216216\n",
            "J 1.0\n",
            "K 1.0\n",
            "L 0.9966996699669967\n",
            "M 0.9933554817275747\n",
            "N 1.0\n",
            "O 0.993127147766323\n",
            "P 1.0\n",
            "Q 1.0\n",
            "R 0.9899328859060402\n",
            "S 1.0\n",
            "T 1.0\n",
            "U 1.0\n",
            "V 0.993006993006993\n",
            "W 0.9843260188087775\n",
            "X 0.9873417721518988\n",
            "Y 1.0\n",
            "Z 1.0\n"
          ]
        }
      ]
    },
    {
      "cell_type": "code",
      "metadata": {
        "id": "nAjEkQ0r_PcV"
      },
      "source": [
        ""
      ],
      "execution_count": null,
      "outputs": []
    }
  ]
}