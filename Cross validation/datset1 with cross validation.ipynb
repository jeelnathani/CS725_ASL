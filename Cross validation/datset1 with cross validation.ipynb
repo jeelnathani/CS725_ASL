{
  "nbformat": 4,
  "nbformat_minor": 0,
  "metadata": {
    "colab": {
      "name": "Untitled5.ipynb",
      "provenance": [],
      "collapsed_sections": []
    },
    "kernelspec": {
      "name": "python3",
      "display_name": "Python 3"
    },
    "language_info": {
      "name": "python"
    },
    "accelerator": "GPU"
  },
  "cells": [
    {
      "cell_type": "code",
      "metadata": {
        "id": "a8fhZ0q3jwpg"
      },
      "source": [
        "import tensorflow as tf\n",
        "import keras\n",
        "import numpy as np\n",
        "import pandas as pd\n",
        "from keras.models import Sequential\n",
        "from keras.layers import *\n",
        "import matplotlib.pyplot as plt"
      ],
      "execution_count": 2,
      "outputs": []
    },
    {
      "cell_type": "code",
      "metadata": {
        "id": "7cbK523rj2NI"
      },
      "source": [
        "traindata = pd.read_csv('https://firebasestorage.googleapis.com/v0/b/asl202020202030.appspot.com/o/sign_mnist_train.csv?alt=media&token=f27b368a-64cc-4081-849d-927f08f60e07')\n"
      ],
      "execution_count": 3,
      "outputs": []
    },
    {
      "cell_type": "code",
      "metadata": {
        "colab": {
          "base_uri": "https://localhost:8080/"
        },
        "id": "uHWSYqbl0kCA",
        "outputId": "b86ef4ce-5068-4455-a271-26e861760c59"
      },
      "source": [
        "traindata.shape"
      ],
      "execution_count": 4,
      "outputs": [
        {
          "output_type": "execute_result",
          "data": {
            "text/plain": [
              "(27455, 785)"
            ]
          },
          "metadata": {},
          "execution_count": 4
        }
      ]
    },
    {
      "cell_type": "code",
      "metadata": {
        "id": "uOfmIwdmj_Qd",
        "colab": {
          "base_uri": "https://localhost:8080/"
        },
        "outputId": "b4609015-6038-4925-a379-ba0f8c7eca8e"
      },
      "source": [
        "trainlabel = traindata['label'].values\n",
        "trainlabel"
      ],
      "execution_count": 5,
      "outputs": [
        {
          "output_type": "execute_result",
          "data": {
            "text/plain": [
              "array([ 3,  6,  2, ..., 18, 17, 23])"
            ]
          },
          "metadata": {},
          "execution_count": 5
        }
      ]
    },
    {
      "cell_type": "code",
      "metadata": {
        "id": "eJ_9BvidkJTX",
        "colab": {
          "base_uri": "https://localhost:8080/"
        },
        "outputId": "621d0541-e43a-46fe-aaf4-2114761fa8f8"
      },
      "source": [
        "traindata.drop('label',inplace=True,axis=1)\n",
        "trainimages=traindata.values\n",
        "trainimages"
      ],
      "execution_count": 6,
      "outputs": [
        {
          "output_type": "execute_result",
          "data": {
            "text/plain": [
              "array([[107, 118, 127, ..., 204, 203, 202],\n",
              "       [155, 157, 156, ..., 103, 135, 149],\n",
              "       [187, 188, 188, ..., 195, 194, 195],\n",
              "       ...,\n",
              "       [174, 174, 174, ..., 202, 200, 200],\n",
              "       [177, 181, 184, ...,  64,  87,  93],\n",
              "       [179, 180, 180, ..., 205, 209, 215]])"
            ]
          },
          "metadata": {},
          "execution_count": 6
        }
      ]
    },
    {
      "cell_type": "code",
      "metadata": {
        "colab": {
          "base_uri": "https://localhost:8080/"
        },
        "id": "JPV-iy9n07f4",
        "outputId": "d32c8bf2-946c-47e0-8e00-1aac5a319b96"
      },
      "source": [
        "trainimages.shape"
      ],
      "execution_count": 7,
      "outputs": [
        {
          "output_type": "execute_result",
          "data": {
            "text/plain": [
              "(27455, 784)"
            ]
          },
          "metadata": {},
          "execution_count": 7
        }
      ]
    },
    {
      "cell_type": "code",
      "metadata": {
        "id": "f9BRm0m-kUdT"
      },
      "source": [
        "trainimages=trainimages.reshape(-1,28,28,1)"
      ],
      "execution_count": 8,
      "outputs": []
    },
    {
      "cell_type": "code",
      "metadata": {
        "colab": {
          "base_uri": "https://localhost:8080/"
        },
        "id": "6COyZvVy1Bi5",
        "outputId": "5e4facf3-60ba-411a-b361-4f040a3a78cb"
      },
      "source": [
        "trainimages.shape"
      ],
      "execution_count": 9,
      "outputs": [
        {
          "output_type": "execute_result",
          "data": {
            "text/plain": [
              "(27455, 28, 28, 1)"
            ]
          },
          "metadata": {},
          "execution_count": 9
        }
      ]
    },
    {
      "cell_type": "code",
      "metadata": {
        "id": "SfEIKUIzkbG6"
      },
      "source": [
        "testdata = pd.read_csv('https://firebasestorage.googleapis.com/v0/b/asl202020202030.appspot.com/o/sign_mnist_test.csv?alt=media&token=300f40d5-d39e-4df3-b43f-87ba5cc4d21c')"
      ],
      "execution_count": 28,
      "outputs": []
    },
    {
      "cell_type": "code",
      "metadata": {
        "id": "j9YmAO30kkPF"
      },
      "source": [
        "testlabel=testdata['label'].values  "
      ],
      "execution_count": 29,
      "outputs": []
    },
    {
      "cell_type": "code",
      "metadata": {
        "colab": {
          "base_uri": "https://localhost:8080/"
        },
        "id": "pvcRkZ5n9e63",
        "outputId": "9792f64b-fee7-41c3-9023-246e29afeeb0"
      },
      "source": [
        "testlabel[20:60]"
      ],
      "execution_count": 57,
      "outputs": [
        {
          "output_type": "execute_result",
          "data": {
            "text/plain": [
              "array([ 2,  0, 21,  4, 10, 15,  2, 15,  7,  1,  7,  8, 13, 19,  3, 21, 13,\n",
              "        3, 18, 14, 15, 23,  8, 15, 14,  5, 17,  4, 19, 13, 20, 22, 20,  5,\n",
              "       16, 16, 21,  4,  7, 22])"
            ]
          },
          "metadata": {},
          "execution_count": 57
        }
      ]
    },
    {
      "cell_type": "code",
      "metadata": {
        "id": "JacMX_lhkrHB"
      },
      "source": [
        "testdata.drop('label',inplace=True,axis=1)\n",
        "testimages=testdata.values"
      ],
      "execution_count": 30,
      "outputs": []
    },
    {
      "cell_type": "code",
      "metadata": {
        "id": "xE1keqmokyhJ"
      },
      "source": [
        "testimages=testimages.reshape(-1,28,28,1)"
      ],
      "execution_count": 31,
      "outputs": []
    },
    {
      "cell_type": "code",
      "metadata": {
        "colab": {
          "base_uri": "https://localhost:8080/"
        },
        "id": "leljfD7S-jj7",
        "outputId": "fba11581-e614-4f0f-870a-dec380d4b220"
      },
      "source": [
        "testimages"
      ],
      "execution_count": 60,
      "outputs": [
        {
          "output_type": "execute_result",
          "data": {
            "text/plain": [
              "array([[[[149],\n",
              "         [149],\n",
              "         [150],\n",
              "         ...,\n",
              "         [150],\n",
              "         [150],\n",
              "         [149]],\n",
              "\n",
              "        [[150],\n",
              "         [150],\n",
              "         [150],\n",
              "         ...,\n",
              "         [151],\n",
              "         [150],\n",
              "         [151]],\n",
              "\n",
              "        [[150],\n",
              "         [151],\n",
              "         [151],\n",
              "         ...,\n",
              "         [151],\n",
              "         [151],\n",
              "         [152]],\n",
              "\n",
              "        ...,\n",
              "\n",
              "        [[ 69],\n",
              "         [ 69],\n",
              "         [ 77],\n",
              "         ...,\n",
              "         [116],\n",
              "         [113],\n",
              "         [118]],\n",
              "\n",
              "        [[ 74],\n",
              "         [ 75],\n",
              "         [ 76],\n",
              "         ...,\n",
              "         [110],\n",
              "         [116],\n",
              "         [113]],\n",
              "\n",
              "        [[ 75],\n",
              "         [ 74],\n",
              "         [ 74],\n",
              "         ...,\n",
              "         [112],\n",
              "         [120],\n",
              "         [107]]],\n",
              "\n",
              "\n",
              "       [[[126],\n",
              "         [128],\n",
              "         [131],\n",
              "         ...,\n",
              "         [133],\n",
              "         [134],\n",
              "         [132]],\n",
              "\n",
              "        [[129],\n",
              "         [132],\n",
              "         [134],\n",
              "         ...,\n",
              "         [136],\n",
              "         [136],\n",
              "         [134]],\n",
              "\n",
              "        [[133],\n",
              "         [135],\n",
              "         [138],\n",
              "         ...,\n",
              "         [140],\n",
              "         [139],\n",
              "         [138]],\n",
              "\n",
              "        ...,\n",
              "\n",
              "        [[173],\n",
              "         [174],\n",
              "         [177],\n",
              "         ...,\n",
              "         [184],\n",
              "         [182],\n",
              "         [181]],\n",
              "\n",
              "        [[172],\n",
              "         [174],\n",
              "         [177],\n",
              "         ...,\n",
              "         [184],\n",
              "         [182],\n",
              "         [181]],\n",
              "\n",
              "        [[172],\n",
              "         [174],\n",
              "         [177],\n",
              "         ...,\n",
              "         [184],\n",
              "         [182],\n",
              "         [180]]],\n",
              "\n",
              "\n",
              "       [[[ 85],\n",
              "         [ 88],\n",
              "         [ 92],\n",
              "         ...,\n",
              "         [182],\n",
              "         [181],\n",
              "         [178]],\n",
              "\n",
              "        [[ 86],\n",
              "         [ 88],\n",
              "         [ 93],\n",
              "         ...,\n",
              "         [183],\n",
              "         [181],\n",
              "         [179]],\n",
              "\n",
              "        [[ 86],\n",
              "         [ 89],\n",
              "         [ 93],\n",
              "         ...,\n",
              "         [185],\n",
              "         [183],\n",
              "         [181]],\n",
              "\n",
              "        ...,\n",
              "\n",
              "        [[ 91],\n",
              "         [ 94],\n",
              "         [ 97],\n",
              "         ...,\n",
              "         [224],\n",
              "         [222],\n",
              "         [221]],\n",
              "\n",
              "        [[ 90],\n",
              "         [ 92],\n",
              "         [ 96],\n",
              "         ...,\n",
              "         [225],\n",
              "         [224],\n",
              "         [222]],\n",
              "\n",
              "        [[ 89],\n",
              "         [ 91],\n",
              "         [ 94],\n",
              "         ...,\n",
              "         [225],\n",
              "         [224],\n",
              "         [222]]],\n",
              "\n",
              "\n",
              "       ...,\n",
              "\n",
              "\n",
              "       [[[190],\n",
              "         [191],\n",
              "         [190],\n",
              "         ...,\n",
              "         [185],\n",
              "         [184],\n",
              "         [183]],\n",
              "\n",
              "        [[193],\n",
              "         [193],\n",
              "         [193],\n",
              "         ...,\n",
              "         [186],\n",
              "         [185],\n",
              "         [184]],\n",
              "\n",
              "        [[195],\n",
              "         [194],\n",
              "         [195],\n",
              "         ...,\n",
              "         [187],\n",
              "         [186],\n",
              "         [187]],\n",
              "\n",
              "        ...,\n",
              "\n",
              "        [[214],\n",
              "         [215],\n",
              "         [213],\n",
              "         ...,\n",
              "         [208],\n",
              "         [208],\n",
              "         [208]],\n",
              "\n",
              "        [[214],\n",
              "         [215],\n",
              "         [209],\n",
              "         ...,\n",
              "         [209],\n",
              "         [208],\n",
              "         [207]],\n",
              "\n",
              "        [[215],\n",
              "         [215],\n",
              "         [207],\n",
              "         ...,\n",
              "         [211],\n",
              "         [209],\n",
              "         [208]]],\n",
              "\n",
              "\n",
              "       [[[201],\n",
              "         [205],\n",
              "         [208],\n",
              "         ...,\n",
              "         [239],\n",
              "         [239],\n",
              "         [239]],\n",
              "\n",
              "        [[206],\n",
              "         [209],\n",
              "         [212],\n",
              "         ...,\n",
              "         [242],\n",
              "         [242],\n",
              "         [242]],\n",
              "\n",
              "        [[210],\n",
              "         [214],\n",
              "         [216],\n",
              "         ...,\n",
              "         [246],\n",
              "         [245],\n",
              "         [244]],\n",
              "\n",
              "        ...,\n",
              "\n",
              "        [[255],\n",
              "         [255],\n",
              "         [255],\n",
              "         ...,\n",
              "         [255],\n",
              "         [200],\n",
              "         [142]],\n",
              "\n",
              "        [[255],\n",
              "         [255],\n",
              "         [255],\n",
              "         ...,\n",
              "         [ 99],\n",
              "         [ 80],\n",
              "         [ 77]],\n",
              "\n",
              "        [[255],\n",
              "         [255],\n",
              "         [255],\n",
              "         ...,\n",
              "         [ 67],\n",
              "         [ 70],\n",
              "         [ 63]]],\n",
              "\n",
              "\n",
              "       [[[173],\n",
              "         [174],\n",
              "         [173],\n",
              "         ...,\n",
              "         [168],\n",
              "         [167],\n",
              "         [166]],\n",
              "\n",
              "        [[176],\n",
              "         [176],\n",
              "         [176],\n",
              "         ...,\n",
              "         [168],\n",
              "         [168],\n",
              "         [167]],\n",
              "\n",
              "        [[178],\n",
              "         [177],\n",
              "         [178],\n",
              "         ...,\n",
              "         [169],\n",
              "         [168],\n",
              "         [169]],\n",
              "\n",
              "        ...,\n",
              "\n",
              "        [[198],\n",
              "         [199],\n",
              "         [199],\n",
              "         ...,\n",
              "         [192],\n",
              "         [192],\n",
              "         [192]],\n",
              "\n",
              "        [[198],\n",
              "         [200],\n",
              "         [193],\n",
              "         ...,\n",
              "         [193],\n",
              "         [192],\n",
              "         [191]],\n",
              "\n",
              "        [[199],\n",
              "         [201],\n",
              "         [190],\n",
              "         ...,\n",
              "         [195],\n",
              "         [193],\n",
              "         [192]]]])"
            ]
          },
          "metadata": {},
          "execution_count": 60
        }
      ]
    },
    {
      "cell_type": "code",
      "metadata": {
        "id": "eqfCI8rpk3IC"
      },
      "source": [
        "from keras.preprocessing.image import ImageDataGenerator"
      ],
      "execution_count": 32,
      "outputs": []
    },
    {
      "cell_type": "code",
      "metadata": {
        "id": "3IWfYmtIk8wo"
      },
      "source": [
        "traingen=ImageDataGenerator(rotation_range=20,zoom_range=0.1,width_shift_range=0.1,height_shift_range=0.1,\n",
        "                  shear_range=0.1,horizontal_flip=True,rescale=1/255.0,validation_split=0.1)"
      ],
      "execution_count": 33,
      "outputs": []
    },
    {
      "cell_type": "code",
      "metadata": {
        "id": "wyEgsRW0lAt5"
      },
      "source": [
        "traindata_generator = traingen.flow(trainimages,trainlabel,subset='training')\n",
        "validationdata_generator = traingen.flow(trainimages,trainlabel,subset='validation')"
      ],
      "execution_count": 34,
      "outputs": []
    },
    {
      "cell_type": "code",
      "metadata": {
        "id": "DCbh6g8ylMJC"
      },
      "source": [
        "testgen=ImageDataGenerator(rescale=1/255.0)\n",
        "testdata_generator = testgen.flow(testimages,testlabel)"
      ],
      "execution_count": 35,
      "outputs": []
    },
    {
      "cell_type": "code",
      "metadata": {
        "id": "XlOg8JT5lUGx"
      },
      "source": [
        "model=Sequential([])\n",
        "\n",
        "model.add(Conv2D(64,(3,3),activation=\"relu\",input_shape=(28,28,1)))\n",
        "model.add(BatchNormalization())\n",
        "model.add(Conv2D(64,(3,3),activation=\"relu\",input_shape=(28,28,1)))\n",
        "model.add(BatchNormalization())\n",
        "model.add(MaxPooling2D(2,2))\n",
        "\n",
        "model.add(Conv2D(128,(3,3),activation=\"relu\"))\n",
        "model.add(BatchNormalization())\n",
        "model.add(Conv2D(128,(3,3),activation=\"relu\"))\n",
        "model.add(BatchNormalization())\n",
        "model.add(MaxPooling2D(2,2))\n",
        "\n",
        "model.add(Flatten())\n",
        "model.add(BatchNormalization())\n",
        "#model.add(Dropout(0.4))\n",
        "model.add(Dense(256,activation=\"relu\"))\n",
        "model.add(BatchNormalization())\n",
        "model.add(Dense(26,activation=\"softmax\"))"
      ],
      "execution_count": 36,
      "outputs": []
    },
    {
      "cell_type": "code",
      "metadata": {
        "id": "rjA1pnqnllxB"
      },
      "source": [
        "model.compile(loss=\"sparse_categorical_crossentropy\",optimizer='adam',metrics=['accuracy'])"
      ],
      "execution_count": 37,
      "outputs": []
    },
    {
      "cell_type": "code",
      "metadata": {
        "colab": {
          "base_uri": "https://localhost:8080/"
        },
        "id": "-O7_tBrYlpnD",
        "outputId": "8cf21508-f9f8-43f2-bb01-a1ec80d22ddf"
      },
      "source": [
        "model.summary()"
      ],
      "execution_count": 38,
      "outputs": [
        {
          "output_type": "stream",
          "name": "stdout",
          "text": [
            "Model: \"sequential\"\n",
            "_________________________________________________________________\n",
            " Layer (type)                Output Shape              Param #   \n",
            "=================================================================\n",
            " conv2d (Conv2D)             (None, 26, 26, 64)        640       \n",
            "                                                                 \n",
            " batch_normalization (BatchN  (None, 26, 26, 64)       256       \n",
            " ormalization)                                                   \n",
            "                                                                 \n",
            " conv2d_1 (Conv2D)           (None, 24, 24, 64)        36928     \n",
            "                                                                 \n",
            " batch_normalization_1 (Batc  (None, 24, 24, 64)       256       \n",
            " hNormalization)                                                 \n",
            "                                                                 \n",
            " max_pooling2d (MaxPooling2D  (None, 12, 12, 64)       0         \n",
            " )                                                               \n",
            "                                                                 \n",
            " conv2d_2 (Conv2D)           (None, 10, 10, 128)       73856     \n",
            "                                                                 \n",
            " batch_normalization_2 (Batc  (None, 10, 10, 128)      512       \n",
            " hNormalization)                                                 \n",
            "                                                                 \n",
            " conv2d_3 (Conv2D)           (None, 8, 8, 128)         147584    \n",
            "                                                                 \n",
            " batch_normalization_3 (Batc  (None, 8, 8, 128)        512       \n",
            " hNormalization)                                                 \n",
            "                                                                 \n",
            " max_pooling2d_1 (MaxPooling  (None, 4, 4, 128)        0         \n",
            " 2D)                                                             \n",
            "                                                                 \n",
            " flatten (Flatten)           (None, 2048)              0         \n",
            "                                                                 \n",
            " batch_normalization_4 (Batc  (None, 2048)             8192      \n",
            " hNormalization)                                                 \n",
            "                                                                 \n",
            " dense (Dense)               (None, 256)               524544    \n",
            "                                                                 \n",
            " batch_normalization_5 (Batc  (None, 256)              1024      \n",
            " hNormalization)                                                 \n",
            "                                                                 \n",
            " dense_1 (Dense)             (None, 26)                6682      \n",
            "                                                                 \n",
            "=================================================================\n",
            "Total params: 800,986\n",
            "Trainable params: 795,610\n",
            "Non-trainable params: 5,376\n",
            "_________________________________________________________________\n"
          ]
        }
      ]
    },
    {
      "cell_type": "code",
      "metadata": {
        "id": "3PxYZrx9lwiV"
      },
      "source": [
        "from keras.callbacks import *\n",
        "class myCallback(Callback):\n",
        "  def on_epoch_end(self, epoch, logs={}):\n",
        "    if(logs.get('val_accuracy')>0.995):\n",
        "      print(\"\\nReached 99.5% accuracy so cancelling training!\")\n",
        "      self.model.stop_training = True\n",
        "callback=myCallback()\n",
        "annealer = LearningRateScheduler(lambda x: 1e-3 * 0.95 ** x)"
      ],
      "execution_count": 39,
      "outputs": []
    },
    {
      "cell_type": "code",
      "metadata": {
        "colab": {
          "base_uri": "https://localhost:8080/"
        },
        "id": "mQDfI1BWmM9f",
        "outputId": "02eaeb67-aae8-462a-bafe-fabc4af81b94"
      },
      "source": [
        "history=model.fit(traindata_generator,epochs=10,validation_data=validationdata_generator,callbacks=[callback,annealer])"
      ],
      "execution_count": 40,
      "outputs": [
        {
          "output_type": "stream",
          "name": "stdout",
          "text": [
            "Epoch 1/10\n",
            "773/773 [==============================] - 32s 27ms/step - loss: 0.8545 - accuracy: 0.7352 - val_loss: 0.4827 - val_accuracy: 0.8452 - lr: 0.0010\n",
            "Epoch 2/10\n",
            "773/773 [==============================] - 21s 27ms/step - loss: 0.2023 - accuracy: 0.9360 - val_loss: 0.2230 - val_accuracy: 0.9286 - lr: 9.5000e-04\n",
            "Epoch 3/10\n",
            "773/773 [==============================] - 21s 27ms/step - loss: 0.1020 - accuracy: 0.9687 - val_loss: 1.8018 - val_accuracy: 0.5811 - lr: 9.0250e-04\n",
            "Epoch 4/10\n",
            "773/773 [==============================] - 21s 27ms/step - loss: 0.0794 - accuracy: 0.9752 - val_loss: 0.5991 - val_accuracy: 0.8124 - lr: 8.5737e-04\n",
            "Epoch 5/10\n",
            "773/773 [==============================] - 20s 26ms/step - loss: 0.0711 - accuracy: 0.9775 - val_loss: 2.5711 - val_accuracy: 0.5574 - lr: 8.1451e-04\n",
            "Epoch 6/10\n",
            "773/773 [==============================] - 20s 26ms/step - loss: 0.0489 - accuracy: 0.9850 - val_loss: 0.0296 - val_accuracy: 0.9916 - lr: 7.7378e-04\n",
            "Epoch 7/10\n",
            "773/773 [==============================] - 20s 26ms/step - loss: 0.0393 - accuracy: 0.9876 - val_loss: 0.0627 - val_accuracy: 0.9818 - lr: 7.3509e-04\n",
            "Epoch 8/10\n",
            "773/773 [==============================] - 21s 27ms/step - loss: 0.0376 - accuracy: 0.9883 - val_loss: 5.0542 - val_accuracy: 0.3789 - lr: 6.9834e-04\n",
            "Epoch 9/10\n",
            "773/773 [==============================] - 20s 26ms/step - loss: 0.0326 - accuracy: 0.9899 - val_loss: 0.0202 - val_accuracy: 0.9945 - lr: 6.6342e-04\n",
            "Epoch 10/10\n",
            "773/773 [==============================] - 20s 26ms/step - loss: 0.0214 - accuracy: 0.9937 - val_loss: 0.0179 - val_accuracy: 0.9949 - lr: 6.3025e-04\n"
          ]
        }
      ]
    },
    {
      "cell_type": "code",
      "metadata": {
        "colab": {
          "base_uri": "https://localhost:8080/"
        },
        "id": "Ft_aZhU2yZPZ",
        "outputId": "520ab8fe-699f-4df3-fab5-1528f5786afe"
      },
      "source": [
        "model.evaluate_generator(testdata_generator)[1]"
      ],
      "execution_count": 43,
      "outputs": [
        {
          "output_type": "stream",
          "name": "stderr",
          "text": [
            "/usr/local/lib/python3.7/dist-packages/ipykernel_launcher.py:1: UserWarning: `Model.evaluate_generator` is deprecated and will be removed in a future version. Please use `Model.evaluate`, which supports generators.\n",
            "  \"\"\"Entry point for launching an IPython kernel.\n"
          ]
        },
        {
          "output_type": "execute_result",
          "data": {
            "text/plain": [
              "1.0"
            ]
          },
          "metadata": {},
          "execution_count": 43
        }
      ]
    },
    {
      "cell_type": "code",
      "metadata": {
        "id": "Nv82cnbFyrco"
      },
      "source": [
        "model.save_weights(\"aslconv4.h5\")"
      ],
      "execution_count": 20,
      "outputs": []
    },
    {
      "cell_type": "code",
      "metadata": {
        "colab": {
          "base_uri": "https://localhost:8080/",
          "height": 545
        },
        "id": "RHJgQrRTyxPt",
        "outputId": "de5a77e1-cd5f-444a-fcce-a28813268a3c"
      },
      "source": [
        "acc = history.history['accuracy']\n",
        "val_acc = history.history['val_accuracy']\n",
        "loss = history.history['loss']\n",
        "val_loss = history.history['val_loss']\n",
        "epochs = range(len(acc))\n",
        "plt.plot(epochs, acc, 'r', label='Training accuracy')\n",
        "plt.plot(epochs, val_acc, 'b', label='Validation accuracy')\n",
        "plt.title('Training and validation accuracy')\n",
        "plt.legend()\n",
        "plt.figure()\n",
        "plt.plot(epochs, loss, 'r', label='Training Loss')\n",
        "plt.plot(epochs, val_loss, 'b', label='Validation Loss')\n",
        "plt.title('Training and validation loss')\n",
        "plt.legend()\n",
        "plt.show()"
      ],
      "execution_count": null,
      "outputs": [
        {
          "output_type": "display_data",
          "data": {
            "image/png": "[encoded data removed]",
            "text/plain": [
              "<Figure size 432x288 with 1 Axes>"
            ]
          },
          "metadata": {
            "needs_background": "light"
          }
        },
        {
          "output_type": "display_data",
          "data": {
            "image/png": "[encoded data removed]",
            "text/plain": [
              "<Figure size 432x288 with 1 Axes>"
            ]
          },
          "metadata": {
            "needs_background": "light"
          }
        }
      ]
    },
    {
      "cell_type": "code",
      "metadata": {
        "id": "v4Gol4oI1JGU"
      },
      "source": [
        "model1 = Sequential([Conv2D(32,(3,3),activation=\"relu\",input_shape=(28, 28, 1))])\n",
        "model1.add(MaxPooling2D((2, 2)))\n",
        "model1.add(Conv2D(64, (3, 3), activation='relu'))\n",
        "model1.add(MaxPooling2D((2, 2)))\n",
        "model1.add(Conv2D(64, (3, 3), activation='relu'))\n",
        "model1.add(Flatten())\n",
        "model1.add(Dense(64, activation='relu'))\n",
        "model1.add(Dense(25,activation='softmax'))"
      ],
      "execution_count": null,
      "outputs": []
    },
    {
      "cell_type": "code",
      "metadata": {
        "id": "O1tX3IoM1Xbg"
      },
      "source": [
        "model1.compile(optimizer='adam',\n",
        "              loss=keras.losses.SparseCategoricalCrossentropy(from_logits=True),\n",
        "              metrics=['accuracy'])"
      ],
      "execution_count": null,
      "outputs": []
    },
    {
      "cell_type": "code",
      "metadata": {
        "colab": {
          "base_uri": "https://localhost:8080/"
        },
        "id": "wB8NForx1fhq",
        "outputId": "5525205f-e17d-4d87-9758-f69e982ae69e"
      },
      "source": [
        "history1 = model1.fit(traindata_generator,epochs=10,validation_data=validationdata_generator,callbacks=[callback,annealer])"
      ],
      "execution_count": null,
      "outputs": [
        {
          "output_type": "stream",
          "name": "stdout",
          "text": [
            "773/773 [==============================] - 46s 21ms/step - loss: 2.4338 - accuracy: 0.2442 - val_loss: 1.7124 - val_accuracy: 0.4350 - lr: 0.0010\n",
            "Epoch 2/10\n",
            "773/773 [==============================] - 16s 20ms/step - loss: 1.4126 - accuracy: 0.5317 - val_loss: 1.2405 - val_accuracy: 0.5956 - lr: 9.5000e-04\n",
            "Epoch 3/10\n",
            "773/773 [==============================] - 16s 20ms/step - loss: 1.0388 - accuracy: 0.6492 - val_loss: 0.9499 - val_accuracy: 0.6729 - lr: 9.0250e-04\n",
            "Epoch 4/10\n",
            "773/773 [==============================] - 16s 21ms/step - loss: 0.8364 - accuracy: 0.7102 - val_loss: 0.7642 - val_accuracy: 0.7410 - lr: 8.5737e-04\n",
            "Epoch 5/10\n",
            "773/773 [==============================] - 16s 21ms/step - loss: 0.6970 - accuracy: 0.7621 - val_loss: 0.6283 - val_accuracy: 0.7942 - lr: 8.1451e-04\n",
            "Epoch 6/10\n",
            "773/773 [==============================] - 16s 21ms/step - loss: 0.5866 - accuracy: 0.7999 - val_loss: 0.5045 - val_accuracy: 0.8182 - lr: 7.7378e-04\n",
            "Epoch 7/10\n",
            "773/773 [==============================] - 16s 21ms/step - loss: 0.5250 - accuracy: 0.8213 - val_loss: 0.4672 - val_accuracy: 0.8393 - lr: 7.3509e-04\n",
            "Epoch 8/10\n",
            "773/773 [==============================] - 16s 21ms/step - loss: 0.4504 - accuracy: 0.8460 - val_loss: 0.4438 - val_accuracy: 0.8554 - lr: 6.9834e-04\n",
            "Epoch 9/10\n",
            "773/773 [==============================] - 16s 21ms/step - loss: 0.4084 - accuracy: 0.8607 - val_loss: 0.3709 - val_accuracy: 0.8714 - lr: 6.6342e-04\n",
            "Epoch 10/10\n",
            "773/773 [==============================] - 16s 21ms/step - loss: 0.3735 - accuracy: 0.8752 - val_loss: 0.3604 - val_accuracy: 0.8783 - lr: 6.3025e-04\n"
          ]
        }
      ]
    },
    {
      "cell_type": "code",
      "metadata": {
        "colab": {
          "base_uri": "https://localhost:8080/"
        },
        "id": "JUDsWhf83T7R",
        "outputId": "4deba3f1-9a04-4199-8d55-310a2442a183"
      },
      "source": [
        "model1.evaluate_generator(testdata_generator)[1]"
      ],
      "execution_count": null,
      "outputs": [
        {
          "output_type": "stream",
          "name": "stderr",
          "text": [
            "/usr/local/lib/python3.7/dist-packages/ipykernel_launcher.py:1: UserWarning: `Model.evaluate_generator` is deprecated and will be removed in a future version. Please use `Model.evaluate`, which supports generators.\n",
            "  \"\"\"Entry point for launching an IPython kernel.\n"
          ]
        },
        {
          "output_type": "execute_result",
          "data": {
            "text/plain": [
              "0.9202454090118408"
            ]
          },
          "metadata": {},
          "execution_count": 19
        }
      ]
    },
    {
      "cell_type": "code",
      "metadata": {
        "id": "yymk22OP3lfe"
      },
      "source": [
        "model1.save_weights(\"aslconv4.h5\")"
      ],
      "execution_count": null,
      "outputs": []
    },
    {
      "cell_type": "code",
      "metadata": {
        "colab": {
          "base_uri": "https://localhost:8080/",
          "height": 545
        },
        "id": "xXEOvLiC3pwc",
        "outputId": "c73eb49f-1be6-4a8b-d63e-7b7761082c3c"
      },
      "source": [
        "acc = history1.history['accuracy']\n",
        "val_acc = history1.history['val_accuracy']\n",
        "loss = history1.history['loss']\n",
        "val_loss = history1.history['val_loss']\n",
        "epochs = range(len(acc))\n",
        "plt.plot(epochs, acc, 'r', label='Training accuracy')\n",
        "plt.plot(epochs, val_acc, 'b', label='Validation accuracy')\n",
        "plt.title('Training and validation accuracy')\n",
        "plt.legend()\n",
        "plt.figure()\n",
        "plt.plot(epochs, loss, 'r', label='Training Loss')\n",
        "plt.plot(epochs, val_loss, 'b', label='Validation Loss')\n",
        "plt.title('Training and validation loss')\n",
        "plt.legend()\n",
        "plt.show()"
      ],
      "execution_count": null,
      "outputs": [
        {
          "output_type": "display_data",
          "data": {
            "image/png": "[encoded data removed]",
            "text/plain": [
              "<Figure size 432x288 with 1 Axes>"
            ]
          },
          "metadata": {
            "needs_background": "light"
          }
        },
        {
          "output_type": "display_data",
          "data": {
            "image/png": "[encoded data removed]",
            "text/plain": [
              "<Figure size 432x288 with 1 Axes>"
            ]
          },
          "metadata": {
            "needs_background": "light"
          }
        }
      ]
    },
    {
      "cell_type": "code",
      "metadata": {
        "colab": {
          "base_uri": "https://localhost:8080/"
        },
        "id": "9dkDXiRJ4HDh",
        "outputId": "672267e8-00ca-4fb5-d357-268583133c7a"
      },
      "source": [
        "model1.summary()"
      ],
      "execution_count": null,
      "outputs": [
        {
          "output_type": "stream",
          "name": "stdout",
          "text": [
            "Model: \"sequential\"\n",
            "_________________________________________________________________\n",
            " Layer (type)                Output Shape              Param #   \n",
            "=================================================================\n",
            " conv2d (Conv2D)             (None, 26, 26, 32)        320       \n",
            "                                                                 \n",
            " max_pooling2d (MaxPooling2D  (None, 13, 13, 32)       0         \n",
            " )                                                               \n",
            "                                                                 \n",
            " conv2d_1 (Conv2D)           (None, 11, 11, 64)        18496     \n",
            "                                                                 \n",
            " max_pooling2d_1 (MaxPooling  (None, 5, 5, 64)         0         \n",
            " 2D)                                                             \n",
            "                                                                 \n",
            " conv2d_2 (Conv2D)           (None, 3, 3, 64)          36928     \n",
            "                                                                 \n",
            " flatten (Flatten)           (None, 576)               0         \n",
            "                                                                 \n",
            " dense (Dense)               (None, 64)                36928     \n",
            "                                                                 \n",
            " dense_1 (Dense)             (None, 25)                1625      \n",
            "                                                                 \n",
            "=================================================================\n",
            "Total params: 94,297\n",
            "Trainable params: 94,297\n",
            "Non-trainable params: 0\n",
            "_________________________________________________________________\n"
          ]
        }
      ]
    },
    {
      "cell_type": "code",
      "metadata": {
        "id": "nDAwIyin4bdb"
      },
      "source": [
        "model2 = Sequential([Conv2D(32,(3,3),activation=\"sigmoid\",input_shape=(28, 28, 1))])\n",
        "model2.add(MaxPooling2D((2, 2)))\n",
        "model2.add(Conv2D(64, (3, 3), activation='sigmoid'))\n",
        "model2.add(MaxPooling2D((2, 2)))\n",
        "model2.add(Conv2D(64, (3, 3), activation='sigmoid'))\n",
        "model2.add(Flatten())\n",
        "model2.add(Dense(64, activation='sigmoid'))\n",
        "model2.add(Dense(25,activation='softmax'))"
      ],
      "execution_count": null,
      "outputs": []
    },
    {
      "cell_type": "code",
      "metadata": {
        "id": "iNPiKBzN4zQu"
      },
      "source": [
        "model2.compile(optimizer='adam',\n",
        "              loss=keras.losses.SparseCategoricalCrossentropy(from_logits=True),\n",
        "              metrics=['accuracy'])"
      ],
      "execution_count": null,
      "outputs": []
    },
    {
      "cell_type": "code",
      "metadata": {
        "colab": {
          "base_uri": "https://localhost:8080/"
        },
        "id": "jv3xbQ8C42bJ",
        "outputId": "ebd521af-ea7b-4d54-8f53-dbb4707ff5fd"
      },
      "source": [
        "model2.summary()"
      ],
      "execution_count": null,
      "outputs": [
        {
          "output_type": "stream",
          "name": "stdout",
          "text": [
            "Model: \"sequential_3\"\n",
            "_________________________________________________________________\n",
            " Layer (type)                Output Shape              Param #   \n",
            "=================================================================\n",
            " conv2d_9 (Conv2D)           (None, 26, 26, 32)        320       \n",
            "                                                                 \n",
            " max_pooling2d_6 (MaxPooling  (None, 13, 13, 32)       0         \n",
            " 2D)                                                             \n",
            "                                                                 \n",
            " conv2d_10 (Conv2D)          (None, 11, 11, 64)        18496     \n",
            "                                                                 \n",
            " max_pooling2d_7 (MaxPooling  (None, 5, 5, 64)         0         \n",
            " 2D)                                                             \n",
            "                                                                 \n",
            " conv2d_11 (Conv2D)          (None, 3, 3, 64)          36928     \n",
            "                                                                 \n",
            " flatten_3 (Flatten)         (None, 576)               0         \n",
            "                                                                 \n",
            " dense_6 (Dense)             (None, 64)                36928     \n",
            "                                                                 \n",
            " dense_7 (Dense)             (None, 25)                1625      \n",
            "                                                                 \n",
            "=================================================================\n",
            "Total params: 94,297\n",
            "Trainable params: 94,297\n",
            "Non-trainable params: 0\n",
            "_________________________________________________________________\n"
          ]
        }
      ]
    },
    {
      "cell_type": "code",
      "metadata": {
        "colab": {
          "base_uri": "https://localhost:8080/"
        },
        "id": "bMJ2Q2O95J9m",
        "outputId": "8be716c6-891b-4261-ea6d-ee91c4ab50ae"
      },
      "source": [
        "history2 = model2.fit(traindata_generator,epochs=50,validation_data=validationdata_generator)"
      ],
      "execution_count": null,
      "outputs": [
        {
          "output_type": "stream",
          "name": "stdout",
          "text": [
            "Epoch 1/50\n"
          ]
        },
        {
          "output_type": "stream",
          "name": "stderr",
          "text": [
            "/usr/local/lib/python3.7/dist-packages/tensorflow/python/util/dispatch.py:1096: UserWarning: \"`sparse_categorical_crossentropy` received `from_logits=True`, but the `output` argument was produced by a sigmoid or softmax activation and thus does not represent logits. Was this intended?\"\n",
            "  return dispatch_target(*args, **kwargs)\n"
          ]
        },
        {
          "output_type": "stream",
          "name": "stdout",
          "text": [
            "773/773 [==============================] - 17s 21ms/step - loss: 3.1868 - accuracy: 0.0409 - val_loss: 3.1791 - val_accuracy: 0.0444\n",
            "Epoch 2/50\n",
            "773/773 [==============================] - 16s 20ms/step - loss: 3.1787 - accuracy: 0.0440 - val_loss: 3.1824 - val_accuracy: 0.0397\n",
            "Epoch 3/50\n",
            "773/773 [==============================] - 16s 20ms/step - loss: 3.1790 - accuracy: 0.0455 - val_loss: 3.1775 - val_accuracy: 0.0481\n",
            "Epoch 4/50\n",
            "773/773 [==============================] - 16s 20ms/step - loss: 3.1451 - accuracy: 0.0526 - val_loss: 2.8300 - val_accuracy: 0.1494\n",
            "Epoch 5/50\n",
            "773/773 [==============================] - 16s 20ms/step - loss: 2.4198 - accuracy: 0.2457 - val_loss: 2.1848 - val_accuracy: 0.3064\n",
            "Epoch 6/50\n",
            "773/773 [==============================] - 16s 20ms/step - loss: 2.1014 - accuracy: 0.3393 - val_loss: 2.0241 - val_accuracy: 0.3617\n",
            "Epoch 7/50\n",
            "773/773 [==============================] - 16s 21ms/step - loss: 1.9193 - accuracy: 0.3953 - val_loss: 1.8497 - val_accuracy: 0.4117\n",
            "Epoch 8/50\n",
            "773/773 [==============================] - 16s 21ms/step - loss: 1.7758 - accuracy: 0.4356 - val_loss: 1.7360 - val_accuracy: 0.4503\n",
            "Epoch 9/50\n",
            "773/773 [==============================] - 16s 21ms/step - loss: 1.6563 - accuracy: 0.4742 - val_loss: 1.5868 - val_accuracy: 0.4878\n",
            "Epoch 10/50\n",
            "773/773 [==============================] - 16s 21ms/step - loss: 1.5437 - accuracy: 0.5072 - val_loss: 1.5048 - val_accuracy: 0.5184\n",
            "Epoch 11/50\n",
            "773/773 [==============================] - 16s 21ms/step - loss: 1.4335 - accuracy: 0.5386 - val_loss: 1.3985 - val_accuracy: 0.5468\n",
            "Epoch 12/50\n",
            "773/773 [==============================] - 16s 21ms/step - loss: 1.3478 - accuracy: 0.5696 - val_loss: 1.2785 - val_accuracy: 0.5851\n",
            "Epoch 13/50\n",
            "773/773 [==============================] - 16s 21ms/step - loss: 1.2605 - accuracy: 0.5979 - val_loss: 1.2231 - val_accuracy: 0.6091\n",
            "Epoch 14/50\n",
            "773/773 [==============================] - 16s 21ms/step - loss: 1.1760 - accuracy: 0.6204 - val_loss: 1.1315 - val_accuracy: 0.6401\n",
            "Epoch 15/50\n",
            "773/773 [==============================] - 16s 21ms/step - loss: 1.0889 - accuracy: 0.6459 - val_loss: 1.0733 - val_accuracy: 0.6543\n",
            "Epoch 16/50\n",
            "773/773 [==============================] - 16s 21ms/step - loss: 1.0228 - accuracy: 0.6714 - val_loss: 1.0009 - val_accuracy: 0.6710\n",
            "Epoch 17/50\n",
            "773/773 [==============================] - 16s 21ms/step - loss: 0.9492 - accuracy: 0.6920 - val_loss: 0.9080 - val_accuracy: 0.7064\n",
            "Epoch 18/50\n",
            "773/773 [==============================] - 16s 21ms/step - loss: 0.8878 - accuracy: 0.7113 - val_loss: 0.8615 - val_accuracy: 0.7260\n",
            "Epoch 19/50\n",
            "773/773 [==============================] - 16s 21ms/step - loss: 0.8466 - accuracy: 0.7255 - val_loss: 0.8237 - val_accuracy: 0.7399\n",
            "Epoch 20/50\n",
            "773/773 [==============================] - 16s 21ms/step - loss: 0.7768 - accuracy: 0.7480 - val_loss: 0.8048 - val_accuracy: 0.7319\n",
            "Epoch 21/50\n",
            "773/773 [==============================] - 16s 20ms/step - loss: 0.7460 - accuracy: 0.7569 - val_loss: 0.6810 - val_accuracy: 0.7829\n",
            "Epoch 22/50\n",
            "773/773 [==============================] - 16s 21ms/step - loss: 0.6978 - accuracy: 0.7725 - val_loss: 0.6387 - val_accuracy: 0.8026\n",
            "Epoch 23/50\n",
            "773/773 [==============================] - 16s 20ms/step - loss: 0.6557 - accuracy: 0.7865 - val_loss: 0.6478 - val_accuracy: 0.7909\n",
            "Epoch 24/50\n",
            "773/773 [==============================] - 16s 21ms/step - loss: 0.6265 - accuracy: 0.7972 - val_loss: 0.5953 - val_accuracy: 0.8080\n",
            "Epoch 25/50\n",
            "773/773 [==============================] - 16s 21ms/step - loss: 0.5929 - accuracy: 0.8070 - val_loss: 0.5697 - val_accuracy: 0.8208\n",
            "Epoch 26/50\n",
            "773/773 [==============================] - 16s 21ms/step - loss: 0.5605 - accuracy: 0.8193 - val_loss: 0.6299 - val_accuracy: 0.7982\n",
            "Epoch 27/50\n",
            "773/773 [==============================] - 16s 21ms/step - loss: 0.5324 - accuracy: 0.8298 - val_loss: 0.4971 - val_accuracy: 0.8346\n",
            "Epoch 28/50\n",
            "773/773 [==============================] - 16s 21ms/step - loss: 0.5060 - accuracy: 0.8404 - val_loss: 0.4918 - val_accuracy: 0.8350\n",
            "Epoch 29/50\n",
            "773/773 [==============================] - 16s 21ms/step - loss: 0.4731 - accuracy: 0.8488 - val_loss: 0.4590 - val_accuracy: 0.8503\n",
            "Epoch 30/50\n",
            "773/773 [==============================] - 16s 21ms/step - loss: 0.4534 - accuracy: 0.8580 - val_loss: 0.4418 - val_accuracy: 0.8528\n",
            "Epoch 31/50\n",
            "773/773 [==============================] - 16s 21ms/step - loss: 0.4364 - accuracy: 0.8600 - val_loss: 0.4288 - val_accuracy: 0.8605\n",
            "Epoch 32/50\n",
            "773/773 [==============================] - 16s 21ms/step - loss: 0.4154 - accuracy: 0.8656 - val_loss: 0.4127 - val_accuracy: 0.8754\n",
            "Epoch 33/50\n",
            "773/773 [==============================] - 16s 21ms/step - loss: 0.4027 - accuracy: 0.8719 - val_loss: 0.4224 - val_accuracy: 0.8627\n",
            "Epoch 34/50\n",
            "773/773 [==============================] - 16s 21ms/step - loss: 0.3749 - accuracy: 0.8816 - val_loss: 0.3685 - val_accuracy: 0.8798\n",
            "Epoch 35/50\n",
            "773/773 [==============================] - 16s 21ms/step - loss: 0.3721 - accuracy: 0.8796 - val_loss: 0.3681 - val_accuracy: 0.8791\n",
            "Epoch 36/50\n",
            "773/773 [==============================] - 16s 21ms/step - loss: 0.3512 - accuracy: 0.8911 - val_loss: 0.3647 - val_accuracy: 0.8805\n",
            "Epoch 37/50\n",
            "773/773 [==============================] - 16s 21ms/step - loss: 0.3383 - accuracy: 0.8926 - val_loss: 0.3207 - val_accuracy: 0.8998\n",
            "Epoch 38/50\n",
            "773/773 [==============================] - 16s 21ms/step - loss: 0.3265 - accuracy: 0.8978 - val_loss: 0.3269 - val_accuracy: 0.8976\n",
            "Epoch 39/50\n",
            "773/773 [==============================] - 16s 21ms/step - loss: 0.3155 - accuracy: 0.8980 - val_loss: 0.3129 - val_accuracy: 0.9053\n",
            "Epoch 40/50\n",
            "773/773 [==============================] - 16s 21ms/step - loss: 0.2933 - accuracy: 0.9080 - val_loss: 0.3071 - val_accuracy: 0.9009\n",
            "Epoch 41/50\n",
            "773/773 [==============================] - 16s 20ms/step - loss: 0.2862 - accuracy: 0.9096 - val_loss: 0.2812 - val_accuracy: 0.9086\n",
            "Epoch 42/50\n",
            "773/773 [==============================] - 16s 21ms/step - loss: 0.2733 - accuracy: 0.9140 - val_loss: 0.3050 - val_accuracy: 0.8984\n",
            "Epoch 43/50\n",
            "773/773 [==============================] - 16s 21ms/step - loss: 0.2627 - accuracy: 0.9191 - val_loss: 0.2305 - val_accuracy: 0.9304\n",
            "Epoch 44/50\n",
            "773/773 [==============================] - 16s 20ms/step - loss: 0.2538 - accuracy: 0.9214 - val_loss: 0.3052 - val_accuracy: 0.9016\n",
            "Epoch 45/50\n",
            "773/773 [==============================] - 16s 21ms/step - loss: 0.2427 - accuracy: 0.9257 - val_loss: 0.2379 - val_accuracy: 0.9220\n",
            "Epoch 46/50\n",
            "773/773 [==============================] - 16s 21ms/step - loss: 0.2358 - accuracy: 0.9273 - val_loss: 0.2287 - val_accuracy: 0.9268\n",
            "Epoch 47/50\n",
            "773/773 [==============================] - 16s 21ms/step - loss: 0.2228 - accuracy: 0.9287 - val_loss: 0.2232 - val_accuracy: 0.9264\n",
            "Epoch 48/50\n",
            "773/773 [==============================] - 16s 21ms/step - loss: 0.2195 - accuracy: 0.9314 - val_loss: 0.2337 - val_accuracy: 0.9180\n",
            "Epoch 49/50\n",
            "773/773 [==============================] - 16s 21ms/step - loss: 0.2185 - accuracy: 0.9308 - val_loss: 0.1931 - val_accuracy: 0.9439\n",
            "Epoch 50/50\n",
            "773/773 [==============================] - 16s 21ms/step - loss: 0.2099 - accuracy: 0.9344 - val_loss: 0.2092 - val_accuracy: 0.9344\n"
          ]
        }
      ]
    },
    {
      "cell_type": "code",
      "metadata": {
        "colab": {
          "base_uri": "https://localhost:8080/",
          "height": 545
        },
        "id": "gAAAU6ND_n-n",
        "outputId": "d4a6d884-5b84-4d1a-dad7-c05c32982376"
      },
      "source": [
        "acc = history2.history['accuracy']\n",
        "val_acc = history2.history['val_accuracy']\n",
        "loss = history2.history['loss']\n",
        "val_loss = history2.history['val_loss']\n",
        "epochs = range(len(acc))\n",
        "plt.plot(epochs, acc, 'r', label='Training accuracy')\n",
        "plt.plot(epochs, val_acc, 'b', label='Validation accuracy')\n",
        "plt.title('Training and validation accuracy')\n",
        "plt.legend()\n",
        "plt.figure()\n",
        "plt.plot(epochs, loss, 'r', label='Training Loss')\n",
        "plt.plot(epochs, val_loss, 'b', label='Validation Loss')\n",
        "plt.title('Training and validation loss')\n",
        "plt.legend()\n",
        "plt.show()"
      ],
      "execution_count": null,
      "outputs": [
        {
          "output_type": "display_data",
          "data": {
            "image/png": "[encoded data removed]",
            "text/plain": [
              "<Figure size 432x288 with 1 Axes>"
            ]
          },
          "metadata": {
            "needs_background": "light"
          }
        },
        {
          "output_type": "display_data",
          "data": {
            "image/png": "[encoded data removed]",
            "text/plain": [
              "<Figure size 432x288 with 1 Axes>"
            ]
          },
          "metadata": {
            "needs_background": "light"
          }
        }
      ]
    },
    {
      "cell_type": "code",
      "metadata": {
        "colab": {
          "base_uri": "https://localhost:8080/"
        },
        "id": "K_qR3zR-_wq3",
        "outputId": "10cedbe3-41fb-49e9-a0e9-5c34a48b5a12"
      },
      "source": [
        "model2.evaluate_generator(testdata_generator)[1]"
      ],
      "execution_count": null,
      "outputs": [
        {
          "output_type": "stream",
          "name": "stderr",
          "text": [
            "/usr/local/lib/python3.7/dist-packages/ipykernel_launcher.py:1: UserWarning: `Model.evaluate_generator` is deprecated and will be removed in a future version. Please use `Model.evaluate`, which supports generators.\n",
            "  \"\"\"Entry point for launching an IPython kernel.\n"
          ]
        },
        {
          "output_type": "execute_result",
          "data": {
            "text/plain": [
              "0.9663971066474915"
            ]
          },
          "metadata": {},
          "execution_count": 38
        }
      ]
    },
    {
      "cell_type": "code",
      "metadata": {
        "id": "oJbXgMtXACm7"
      },
      "source": [
        "model3 = Sequential([Conv2D(32,(3,3),activation=\"tanh\",input_shape=(28, 28, 1))])\n",
        "model3.add(MaxPooling2D((2, 2)))\n",
        "model3.add(Conv2D(64, (3, 3), activation='tanh'))\n",
        "model3.add(MaxPooling2D((2, 2)))\n",
        "model3.add(Conv2D(64, (3, 3), activation='tanh'))\n",
        "model3.add(Flatten())\n",
        "model3.add(Dense(64, activation='tanh'))\n",
        "model3.add(Dense(26,activation=\"softmax\"))"
      ],
      "execution_count": null,
      "outputs": []
    },
    {
      "cell_type": "code",
      "metadata": {
        "id": "8P6Kxn3zA-_B"
      },
      "source": [
        "model3.compile(optimizer='adam',\n",
        "              loss=keras.losses.SparseCategoricalCrossentropy(from_logits=True),\n",
        "              metrics=['accuracy'])"
      ],
      "execution_count": null,
      "outputs": []
    },
    {
      "cell_type": "code",
      "metadata": {
        "colab": {
          "base_uri": "https://localhost:8080/"
        },
        "id": "8hpmfDRSApFG",
        "outputId": "3cc42e65-08ae-4b21-98f9-9f6d4d65d4df"
      },
      "source": [
        "history3 = model3.fit(traindata_generator,epochs=10,validation_data=validationdata_generator)"
      ],
      "execution_count": null,
      "outputs": [
        {
          "output_type": "stream",
          "name": "stdout",
          "text": [
            "Epoch 1/10\n"
          ]
        },
        {
          "output_type": "stream",
          "name": "stderr",
          "text": [
            "/usr/local/lib/python3.7/dist-packages/tensorflow/python/util/dispatch.py:1096: UserWarning: \"`sparse_categorical_crossentropy` received `from_logits=True`, but the `output` argument was produced by a sigmoid or softmax activation and thus does not represent logits. Was this intended?\"\n",
            "  return dispatch_target(*args, **kwargs)\n"
          ]
        },
        {
          "output_type": "stream",
          "name": "stdout",
          "text": [
            "773/773 [==============================] - 17s 21ms/step - loss: 1.9306 - accuracy: 0.4107 - val_loss: 1.1588 - val_accuracy: 0.6470\n",
            "Epoch 2/10\n",
            "773/773 [==============================] - 16s 21ms/step - loss: 0.9287 - accuracy: 0.7106 - val_loss: 0.7903 - val_accuracy: 0.7490\n",
            "Epoch 3/10\n",
            "773/773 [==============================] - 16s 21ms/step - loss: 0.6209 - accuracy: 0.8109 - val_loss: 0.5262 - val_accuracy: 0.8383\n",
            "Epoch 4/10\n",
            "773/773 [==============================] - 16s 21ms/step - loss: 0.4701 - accuracy: 0.8590 - val_loss: 0.3883 - val_accuracy: 0.8834\n",
            "Epoch 5/10\n",
            "773/773 [==============================] - 16s 21ms/step - loss: 0.3789 - accuracy: 0.8862 - val_loss: 0.3151 - val_accuracy: 0.9013\n",
            "Epoch 6/10\n",
            "773/773 [==============================] - 16s 21ms/step - loss: 0.3114 - accuracy: 0.9048 - val_loss: 0.2680 - val_accuracy: 0.9191\n",
            "Epoch 7/10\n",
            "773/773 [==============================] - 16s 21ms/step - loss: 0.2692 - accuracy: 0.9167 - val_loss: 0.2265 - val_accuracy: 0.9297\n",
            "Epoch 8/10\n",
            "773/773 [==============================] - 16s 21ms/step - loss: 0.2370 - accuracy: 0.9294 - val_loss: 0.2293 - val_accuracy: 0.9308\n",
            "Epoch 9/10\n",
            "773/773 [==============================] - 16s 21ms/step - loss: 0.2072 - accuracy: 0.9376 - val_loss: 0.1906 - val_accuracy: 0.9392\n",
            "Epoch 10/10\n",
            "773/773 [==============================] - 16s 21ms/step - loss: 0.1806 - accuracy: 0.9451 - val_loss: 0.1820 - val_accuracy: 0.9446\n"
          ]
        }
      ]
    },
    {
      "cell_type": "code",
      "metadata": {
        "colab": {
          "base_uri": "https://localhost:8080/"
        },
        "id": "kRblGgaHCBlO",
        "outputId": "bd5fde84-3f7b-450f-93a7-77c9ec8ad03f"
      },
      "source": [
        "model3.evaluate_generator(testdata_generator)[1]"
      ],
      "execution_count": null,
      "outputs": [
        {
          "output_type": "stream",
          "name": "stderr",
          "text": [
            "/usr/local/lib/python3.7/dist-packages/ipykernel_launcher.py:1: UserWarning: `Model.evaluate_generator` is deprecated and will be removed in a future version. Please use `Model.evaluate`, which supports generators.\n",
            "  \"\"\"Entry point for launching an IPython kernel.\n"
          ]
        },
        {
          "output_type": "execute_result",
          "data": {
            "text/plain": [
              "0.9746235609054565"
            ]
          },
          "metadata": {},
          "execution_count": 47
        }
      ]
    },
    {
      "cell_type": "code",
      "metadata": {
        "colab": {
          "base_uri": "https://localhost:8080/",
          "height": 545
        },
        "id": "A7IKHRpDCPrJ",
        "outputId": "5675b6e9-d39f-4b87-bf23-3e4b771934f0"
      },
      "source": [
        "acc = history3.history['accuracy']\n",
        "val_acc = history3.history['val_accuracy']\n",
        "loss = history3.history['loss']\n",
        "val_loss = history3.history['val_loss']\n",
        "epochs = range(len(acc))\n",
        "plt.plot(epochs, acc, 'r', label='Training accuracy')\n",
        "plt.plot(epochs, val_acc, 'b', label='Validation accuracy')\n",
        "plt.title('Training and validation accuracy')\n",
        "plt.legend()\n",
        "plt.figure()\n",
        "plt.plot(epochs, loss, 'r', label='Training Loss')\n",
        "plt.plot(epochs, val_loss, 'b', label='Validation Loss')\n",
        "plt.title('Training and validation loss')\n",
        "plt.legend()\n",
        "plt.show()"
      ],
      "execution_count": null,
      "outputs": [
        {
          "output_type": "display_data",
          "data": {
            "image/png": "[encoded data removed]",
            "text/plain": [
              "<Figure size 432x288 with 1 Axes>"
            ]
          },
          "metadata": {
            "needs_background": "light"
          }
        },
        {
          "output_type": "display_data",
          "data": {
            "image/png": "[encoded data removed]",
            "text/plain": [
              "<Figure size 432x288 with 1 Axes>"
            ]
          },
          "metadata": {
            "needs_background": "light"
          }
        }
      ]
    },
    {
      "cell_type": "code",
      "metadata": {
        "colab": {
          "base_uri": "https://localhost:8080/"
        },
        "id": "lBdXBX3HCvtm",
        "outputId": "9200d646-697b-4ada-80c2-312ad3b5fa43"
      },
      "source": [
        "model3.summary()"
      ],
      "execution_count": null,
      "outputs": [
        {
          "output_type": "stream",
          "name": "stdout",
          "text": [
            "Model: \"sequential_6\"\n",
            "_________________________________________________________________\n",
            " Layer (type)                Output Shape              Param #   \n",
            "=================================================================\n",
            " conv2d_18 (Conv2D)          (None, 26, 26, 32)        320       \n",
            "                                                                 \n",
            " max_pooling2d_12 (MaxPoolin  (None, 13, 13, 32)       0         \n",
            " g2D)                                                            \n",
            "                                                                 \n",
            " conv2d_19 (Conv2D)          (None, 11, 11, 64)        18496     \n",
            "                                                                 \n",
            " max_pooling2d_13 (MaxPoolin  (None, 5, 5, 64)         0         \n",
            " g2D)                                                            \n",
            "                                                                 \n",
            " conv2d_20 (Conv2D)          (None, 3, 3, 64)          36928     \n",
            "                                                                 \n",
            " flatten_6 (Flatten)         (None, 576)               0         \n",
            "                                                                 \n",
            " dense_11 (Dense)            (None, 64)                36928     \n",
            "                                                                 \n",
            " dense_12 (Dense)            (None, 26)                1690      \n",
            "                                                                 \n",
            "=================================================================\n",
            "Total params: 94,362\n",
            "Trainable params: 94,362\n",
            "Non-trainable params: 0\n",
            "_________________________________________________________________\n"
          ]
        }
      ]
    },
    {
      "cell_type": "code",
      "metadata": {
        "id": "3Dbs4A15C7oR"
      },
      "source": [
        ""
      ],
      "execution_count": null,
      "outputs": []
    },
    {
      "cell_type": "code",
      "metadata": {
        "id": "egUzR6k5DKn5"
      },
      "source": [
        "from tensorflow.keras.layers import LeakyReLU, Dense"
      ],
      "execution_count": null,
      "outputs": []
    },
    {
      "cell_type": "code",
      "metadata": {
        "id": "AXqeVIIlDMYf"
      },
      "source": [
        "leaky_relu = LeakyReLU(alpha=0.01)"
      ],
      "execution_count": null,
      "outputs": []
    },
    {
      "cell_type": "code",
      "metadata": {
        "id": "ntWGS6VHDRkg"
      },
      "source": [
        "model4 = Sequential([Conv2D(32,(3,3),activation=leaky_relu,input_shape=(28, 28, 1))])\n",
        "model4.add(MaxPooling2D((2, 2)))\n",
        "model4.add(Conv2D(64, (3, 3), activation=leaky_relu))\n",
        "model4.add(MaxPooling2D((2, 2)))\n",
        "model4.add(Conv2D(64, (3, 3), activation=leaky_relu))\n",
        "model4.add(Flatten())\n",
        "model4.add(Dense(64, activation=leaky_relu))\n",
        "model4.add(Dense(26,activation=\"softmax\"))"
      ],
      "execution_count": null,
      "outputs": []
    },
    {
      "cell_type": "code",
      "metadata": {
        "colab": {
          "base_uri": "https://localhost:8080/"
        },
        "id": "wSCirLhEDcFM",
        "outputId": "a74581e6-4700-4d96-aa8c-d3cdcc3fd31d"
      },
      "source": [
        "model4.summary()"
      ],
      "execution_count": null,
      "outputs": [
        {
          "output_type": "stream",
          "name": "stdout",
          "text": [
            "Model: \"sequential_8\"\n",
            "_________________________________________________________________\n",
            " Layer (type)                Output Shape              Param #   \n",
            "=================================================================\n",
            " conv2d_23 (Conv2D)          (None, 26, 26, 32)        320       \n",
            "                                                                 \n",
            " max_pooling2d_16 (MaxPoolin  (None, 13, 13, 32)       0         \n",
            " g2D)                                                            \n",
            "                                                                 \n",
            " conv2d_24 (Conv2D)          (None, 11, 11, 64)        18496     \n",
            "                                                                 \n",
            " max_pooling2d_17 (MaxPoolin  (None, 5, 5, 64)         0         \n",
            " g2D)                                                            \n",
            "                                                                 \n",
            " conv2d_25 (Conv2D)          (None, 3, 3, 64)          36928     \n",
            "                                                                 \n",
            " flatten_7 (Flatten)         (None, 576)               0         \n",
            "                                                                 \n",
            " dense_13 (Dense)            (None, 64)                36928     \n",
            "                                                                 \n",
            " dense_14 (Dense)            (None, 26)                1690      \n",
            "                                                                 \n",
            "=================================================================\n",
            "Total params: 94,362\n",
            "Trainable params: 94,362\n",
            "Non-trainable params: 0\n",
            "_________________________________________________________________\n"
          ]
        }
      ]
    },
    {
      "cell_type": "code",
      "metadata": {
        "id": "UmhKH4i0Dg9u"
      },
      "source": [
        "model4.compile(optimizer='adam',\n",
        "              loss=keras.losses.SparseCategoricalCrossentropy(from_logits=True),\n",
        "              metrics=['accuracy'])"
      ],
      "execution_count": null,
      "outputs": []
    },
    {
      "cell_type": "code",
      "metadata": {
        "colab": {
          "base_uri": "https://localhost:8080/"
        },
        "id": "tHwL6c3sDmKh",
        "outputId": "6efea29d-136e-4254-d3d0-851560041a07"
      },
      "source": [
        "history4 = model4.fit(traindata_generator,epochs=10,validation_data=validationdata_generator)"
      ],
      "execution_count": null,
      "outputs": [
        {
          "output_type": "stream",
          "name": "stdout",
          "text": [
            "Epoch 1/10\n"
          ]
        },
        {
          "output_type": "stream",
          "name": "stderr",
          "text": [
            "/usr/local/lib/python3.7/dist-packages/tensorflow/python/util/dispatch.py:1096: UserWarning: \"`sparse_categorical_crossentropy` received `from_logits=True`, but the `output` argument was produced by a sigmoid or softmax activation and thus does not represent logits. Was this intended?\"\n",
            "  return dispatch_target(*args, **kwargs)\n"
          ]
        },
        {
          "output_type": "stream",
          "name": "stdout",
          "text": [
            "773/773 [==============================] - 17s 21ms/step - loss: 2.1883 - accuracy: 0.3100 - val_loss: 1.2927 - val_accuracy: 0.5592\n",
            "Epoch 2/10\n",
            "773/773 [==============================] - 16s 21ms/step - loss: 1.0311 - accuracy: 0.6515 - val_loss: 0.7869 - val_accuracy: 0.7366\n",
            "Epoch 3/10\n",
            "773/773 [==============================] - 16s 21ms/step - loss: 0.6501 - accuracy: 0.7776 - val_loss: 0.5573 - val_accuracy: 0.8131\n",
            "Epoch 4/10\n",
            "773/773 [==============================] - 16s 21ms/step - loss: 0.4617 - accuracy: 0.8441 - val_loss: 0.4222 - val_accuracy: 0.8590\n",
            "Epoch 5/10\n",
            "773/773 [==============================] - 16s 21ms/step - loss: 0.3484 - accuracy: 0.8834 - val_loss: 0.3235 - val_accuracy: 0.8973\n",
            "Epoch 6/10\n",
            "773/773 [==============================] - 16s 21ms/step - loss: 0.2682 - accuracy: 0.9097 - val_loss: 0.2315 - val_accuracy: 0.9246\n",
            "Epoch 7/10\n",
            "773/773 [==============================] - 16s 21ms/step - loss: 0.2230 - accuracy: 0.9250 - val_loss: 0.2163 - val_accuracy: 0.9268\n",
            "Epoch 8/10\n",
            "773/773 [==============================] - 16s 21ms/step - loss: 0.1890 - accuracy: 0.9364 - val_loss: 0.1603 - val_accuracy: 0.9446\n",
            "Epoch 9/10\n",
            "773/773 [==============================] - 16s 21ms/step - loss: 0.1502 - accuracy: 0.9499 - val_loss: 0.1398 - val_accuracy: 0.9530\n",
            "Epoch 10/10\n",
            "773/773 [==============================] - 16s 21ms/step - loss: 0.1410 - accuracy: 0.9527 - val_loss: 0.1132 - val_accuracy: 0.9632\n"
          ]
        }
      ]
    },
    {
      "cell_type": "code",
      "metadata": {
        "colab": {
          "base_uri": "https://localhost:8080/"
        },
        "id": "04ej7eDOESpc",
        "outputId": "b7dba5d8-3563-491a-fd4c-3043a694e108"
      },
      "source": [
        "model4.evaluate_generator(testdata_generator)[1]"
      ],
      "execution_count": null,
      "outputs": [
        {
          "output_type": "stream",
          "name": "stderr",
          "text": [
            "/usr/local/lib/python3.7/dist-packages/ipykernel_launcher.py:1: UserWarning: `Model.evaluate_generator` is deprecated and will be removed in a future version. Please use `Model.evaluate`, which supports generators.\n",
            "  \"\"\"Entry point for launching an IPython kernel.\n"
          ]
        },
        {
          "output_type": "execute_result",
          "data": {
            "text/plain": [
              "0.9822922348976135"
            ]
          },
          "metadata": {},
          "execution_count": 58
        }
      ]
    },
    {
      "cell_type": "code",
      "metadata": {
        "colab": {
          "base_uri": "https://localhost:8080/",
          "height": 545
        },
        "id": "ltRh31NvE4iF",
        "outputId": "47f20992-e414-4029-e5f5-1204a5da85e4"
      },
      "source": [
        "acc = history4.history['accuracy']\n",
        "val_acc = history4.history['val_accuracy']\n",
        "loss = history4.history['loss']\n",
        "val_loss = history4.history['val_loss']\n",
        "epochs = range(len(acc))\n",
        "plt.plot(epochs, acc, 'r', label='Training accuracy')\n",
        "plt.plot(epochs, val_acc, 'b', label='Validation accuracy')\n",
        "plt.title('Training and validation accuracy')\n",
        "plt.legend()\n",
        "plt.figure()\n",
        "plt.plot(epochs, loss, 'r', label='Training Loss')\n",
        "plt.plot(epochs, val_loss, 'b', label='Validation Loss')\n",
        "plt.title('Training and validation loss')\n",
        "plt.legend()\n",
        "plt.show()"
      ],
      "execution_count": null,
      "outputs": [
        {
          "output_type": "display_data",
          "data": {
            "image/png": "[encoded data removed]",
            "text/plain": [
              "<Figure size 432x288 with 1 Axes>"
            ]
          },
          "metadata": {
            "needs_background": "light"
          }
        },
        {
          "output_type": "display_data",
          "data": {
            "image/png": "[encoded data removed]",
            "text/plain": [
              "<Figure size 432x288 with 1 Axes>"
            ]
          },
          "metadata": {
            "needs_background": "light"
          }
        }
      ]
    },
    {
      "cell_type": "markdown",
      "metadata": {
        "id": "Xm5dWUvui7ey"
      },
      "source": [
        "Cross validation"
      ]
    },
    {
      "cell_type": "code",
      "metadata": {
        "id": "EWwb_hGti6bC"
      },
      "source": [
        "from io import BytesIO\n",
        "from urllib.request import urlopen\n",
        "from zipfile import ZipFile\n",
        "url = \"http://grafins.com/ml/compressed_data.zip\"\n",
        "with urlopen(url) as zipresp:\n",
        "    with ZipFile(BytesIO(zipresp.read())) as zfile:\n",
        "        zfile.extractall('.')"
      ],
      "execution_count": 10,
      "outputs": []
    },
    {
      "cell_type": "code",
      "metadata": {
        "id": "bgRttb0BjW-j"
      },
      "source": [
        "labels = {\"A\":0, \"B\":1, \"C\":2, \"D\":3, \"E\":4, \"F\":5, \"G\":6, \"H\":7, \"I\":8, \"J\":9, \"K\":10, \"L\":11, \"M\":12, \"N\":13, \"O\":14, \"P\":15, \"Q\":16, \"R\":17, \"S\":18, \"T\":19, \"U\":20, \"V\":21, \"W\":22, \"X\":23, \"Y\":24, \"Z\":25}\n",
        "data_dir = './compressed_data/train/'\n",
        "img_size = 28\n",
        "def get_data():\n",
        "  data = []\n",
        "  x_data = []\n",
        "  y_data = []\n",
        "  for label in labels:\n",
        "    if label=='J' or label=='Z':\n",
        "      continue\n",
        "    path = os.path.join(data_dir,label)\n",
        "    print(\"Extracting\",label)\n",
        "    for img in os.listdir(path):\n",
        "      try:\n",
        "        image = cv2.imread(os.path.join(path,img),1)\n",
        "        image = cv2.cvtColor(image, cv2.COLOR_BGR2GRAY)\n",
        "        image = cv2.resize(image,(img_size,img_size))\n",
        "        data.append([image,labels[label]])\n",
        "      except Exception as e:\n",
        "        print(e)\n",
        "  random.shuffle(data)\n",
        "  for d in data:\n",
        "    x_data.append(d[0])\n",
        "    y_data.append(d[1])\n",
        "  print(len(x_data),len(y_data))\n",
        "  return np.array(x_data),np.array(y_data),len(x_data)"
      ],
      "execution_count": 81,
      "outputs": []
    },
    {
      "cell_type": "code",
      "metadata": {
        "id": "LN0mhCe-jk-k"
      },
      "source": [
        "import os\n",
        "import cv2"
      ],
      "execution_count": 75,
      "outputs": []
    },
    {
      "cell_type": "code",
      "metadata": {
        "colab": {
          "base_uri": "https://localhost:8080/"
        },
        "id": "TEFJUCf9jdnj",
        "outputId": "164c904a-9158-4109-996c-30bfdddc5bdc"
      },
      "source": [
        "x, y, size = get_data()"
      ],
      "execution_count": 99,
      "outputs": [
        {
          "output_type": "stream",
          "name": "stdout",
          "text": [
            "Extracting A\n",
            "Extracting B\n",
            "Extracting C\n",
            "Extracting D\n",
            "Extracting E\n",
            "Extracting F\n",
            "Extracting G\n",
            "Extracting H\n",
            "Extracting I\n",
            "Extracting K\n",
            "Extracting L\n",
            "Extracting M\n",
            "Extracting N\n",
            "Extracting O\n",
            "Extracting P\n",
            "Extracting Q\n",
            "Extracting R\n",
            "Extracting S\n",
            "Extracting T\n",
            "Extracting U\n",
            "Extracting V\n",
            "Extracting W\n",
            "Extracting X\n",
            "Extracting Y\n",
            "72000 72000\n"
          ]
        }
      ]
    },
    {
      "cell_type": "code",
      "metadata": {
        "colab": {
          "base_uri": "https://localhost:8080/"
        },
        "id": "i7QM09qh2b53",
        "outputId": "98abb49c-45e9-4957-efae-9d80cead4325"
      },
      "source": [
        "x"
      ],
      "execution_count": 111,
      "outputs": [
        {
          "output_type": "execute_result",
          "data": {
            "text/plain": [
              "array([[[ 10,   7,   8, ...,  17,  19,  67],\n",
              "        [ 26,  29,  20, ...,  28,  56,  53],\n",
              "        [ 16,  15,  13, ...,  52,  56,  53],\n",
              "        ...,\n",
              "        [136, 141, 144, ...,  61,  49,  39],\n",
              "        [143, 144, 147, ..., 210, 220, 104],\n",
              "        [143, 145, 147, ..., 217, 221, 228]],\n",
              "\n",
              "       [[106, 105, 104, ...,  40,  38,  55],\n",
              "        [183, 180, 179, ...,  72,  66,  60],\n",
              "        [189, 187, 187, ..., 132, 121, 110],\n",
              "        ...,\n",
              "        [ 87,  98,  92, ..., 115, 114, 116],\n",
              "        [150,  60,  49, ..., 117, 114, 114],\n",
              "        [ 26,  17,  15, ..., 114, 115, 116]],\n",
              "\n",
              "       [[127, 121, 114, ..., 130, 113, 143],\n",
              "        [105, 113, 130, ..., 102, 116, 127],\n",
              "        [252, 252, 252, ...,  77,  81,  80],\n",
              "        ...,\n",
              "        [ 91,  93,  95, ..., 133, 137, 136],\n",
              "        [ 92,  96,  99, ..., 138, 142, 141],\n",
              "        [ 90,  96, 100, ..., 146, 147, 146]],\n",
              "\n",
              "       ...,\n",
              "\n",
              "       [[  9,   9,   9, ...,  16,  18,  56],\n",
              "        [ 23,  35,  24, ...,  30,  51,  50],\n",
              "        [ 14,  15,  14, ...,  48,  50,  54],\n",
              "        ...,\n",
              "        [136, 137, 138, ..., 207, 214, 218],\n",
              "        [139, 140, 141, ..., 209, 216, 222],\n",
              "        [140, 142, 144, ..., 210, 217, 224]],\n",
              "\n",
              "       [[ 98,  96,  96, ...,  68,  68, 122],\n",
              "        [ 98,  94,  69, ...,  71, 135, 131],\n",
              "        [ 94,  90,  96, ..., 131, 128, 135],\n",
              "        ...,\n",
              "        [184, 182, 182, ..., 130, 133, 144],\n",
              "        [186, 188, 181, ..., 128, 131, 138],\n",
              "        [189, 188, 184, ..., 125, 130, 133]],\n",
              "\n",
              "       [[ 13,   8,   9, ...,  22,  22,  70],\n",
              "        [ 36,  41,  28, ...,  35,  60,  61],\n",
              "        [ 19,  19,  18, ...,  59,  65,  68],\n",
              "        ...,\n",
              "        [151, 148, 154, ..., 226, 234, 237],\n",
              "        [154, 154, 157, ..., 230, 236, 239],\n",
              "        [153, 153, 161, ..., 231, 236, 238]]], dtype=uint8)"
            ]
          },
          "metadata": {},
          "execution_count": 111
        }
      ]
    },
    {
      "cell_type": "code",
      "metadata": {
        "colab": {
          "base_uri": "https://localhost:8080/"
        },
        "id": "qPbBSqtKniN7",
        "outputId": "d6064dd8-49c5-42a2-d48d-3faf8dbe3386"
      },
      "source": [
        "\n",
        "x.shape"
      ],
      "execution_count": 101,
      "outputs": [
        {
          "output_type": "execute_result",
          "data": {
            "text/plain": [
              "(72000, 28, 28)"
            ]
          },
          "metadata": {},
          "execution_count": 101
        }
      ]
    },
    {
      "cell_type": "code",
      "metadata": {
        "id": "G0iXuGKijucM"
      },
      "source": [
        "import math\n",
        "import random\n",
        "split = math.ceil(size*0.9)\n",
        "x_train2 = x[:split]\n",
        "y_train2 = y[:split]\n",
        "x_test2 = x[split:]\n",
        "y_test2 = y[split:]\n"
      ],
      "execution_count": 108,
      "outputs": []
    },
    {
      "cell_type": "code",
      "metadata": {
        "colab": {
          "base_uri": "https://localhost:8080/"
        },
        "id": "ZX4GiPF3nWD0",
        "outputId": "74189435-952a-4aa8-f552-ecc3285a1253"
      },
      "source": [
        "\n",
        "x_test2\n"
      ],
      "execution_count": 120,
      "outputs": [
        {
          "output_type": "execute_result",
          "data": {
            "text/plain": [
              "array([[[[ 13],\n",
              "         [  9],\n",
              "         [ 10],\n",
              "         ...,\n",
              "         [ 19],\n",
              "         [ 25],\n",
              "         [ 70]],\n",
              "\n",
              "        [[ 27],\n",
              "         [ 46],\n",
              "         [ 36],\n",
              "         ...,\n",
              "         [ 41],\n",
              "         [ 56],\n",
              "         [ 61]],\n",
              "\n",
              "        [[ 20],\n",
              "         [ 18],\n",
              "         [ 20],\n",
              "         ...,\n",
              "         [ 57],\n",
              "         [ 62],\n",
              "         [ 64]],\n",
              "\n",
              "        ...,\n",
              "\n",
              "        [[133],\n",
              "         [125],\n",
              "         [ 94],\n",
              "         ...,\n",
              "         [229],\n",
              "         [233],\n",
              "         [238]],\n",
              "\n",
              "        [[132],\n",
              "         [123],\n",
              "         [ 96],\n",
              "         ...,\n",
              "         [230],\n",
              "         [238],\n",
              "         [239]],\n",
              "\n",
              "        [[138],\n",
              "         [121],\n",
              "         [ 99],\n",
              "         ...,\n",
              "         [231],\n",
              "         [235],\n",
              "         [242]]],\n",
              "\n",
              "\n",
              "       [[[ 85],\n",
              "         [ 78],\n",
              "         [ 86],\n",
              "         ...,\n",
              "         [ 61],\n",
              "         [ 67],\n",
              "         [125]],\n",
              "\n",
              "        [[ 81],\n",
              "         [ 75],\n",
              "         [ 56],\n",
              "         ...,\n",
              "         [ 76],\n",
              "         [128],\n",
              "         [135]],\n",
              "\n",
              "        [[ 78],\n",
              "         [ 72],\n",
              "         [ 76],\n",
              "         ...,\n",
              "         [131],\n",
              "         [137],\n",
              "         [134]],\n",
              "\n",
              "        ...,\n",
              "\n",
              "        [[165],\n",
              "         [163],\n",
              "         [161],\n",
              "         ...,\n",
              "         [117],\n",
              "         [119],\n",
              "         [126]],\n",
              "\n",
              "        [[166],\n",
              "         [165],\n",
              "         [163],\n",
              "         ...,\n",
              "         [114],\n",
              "         [116],\n",
              "         [121]],\n",
              "\n",
              "        [[170],\n",
              "         [165],\n",
              "         [165],\n",
              "         ...,\n",
              "         [108],\n",
              "         [114],\n",
              "         [119]]],\n",
              "\n",
              "\n",
              "       [[[119],\n",
              "         [114],\n",
              "         [117],\n",
              "         ...,\n",
              "         [ 47],\n",
              "         [ 37],\n",
              "         [ 71]],\n",
              "\n",
              "        [[186],\n",
              "         [184],\n",
              "         [183],\n",
              "         ...,\n",
              "         [ 89],\n",
              "         [ 84],\n",
              "         [ 79]],\n",
              "\n",
              "        [[186],\n",
              "         [187],\n",
              "         [186],\n",
              "         ...,\n",
              "         [138],\n",
              "         [128],\n",
              "         [119]],\n",
              "\n",
              "        ...,\n",
              "\n",
              "        [[126],\n",
              "         [131],\n",
              "         [128],\n",
              "         ...,\n",
              "         [133],\n",
              "         [130],\n",
              "         [131]],\n",
              "\n",
              "        [[147],\n",
              "         [ 65],\n",
              "         [ 48],\n",
              "         ...,\n",
              "         [132],\n",
              "         [134],\n",
              "         [132]],\n",
              "\n",
              "        [[ 26],\n",
              "         [ 21],\n",
              "         [ 22],\n",
              "         ...,\n",
              "         [132],\n",
              "         [131],\n",
              "         [133]]],\n",
              "\n",
              "\n",
              "       ...,\n",
              "\n",
              "\n",
              "       [[[  9],\n",
              "         [  9],\n",
              "         [  9],\n",
              "         ...,\n",
              "         [ 16],\n",
              "         [ 18],\n",
              "         [ 56]],\n",
              "\n",
              "        [[ 23],\n",
              "         [ 35],\n",
              "         [ 24],\n",
              "         ...,\n",
              "         [ 30],\n",
              "         [ 51],\n",
              "         [ 50]],\n",
              "\n",
              "        [[ 14],\n",
              "         [ 15],\n",
              "         [ 14],\n",
              "         ...,\n",
              "         [ 48],\n",
              "         [ 50],\n",
              "         [ 54]],\n",
              "\n",
              "        ...,\n",
              "\n",
              "        [[136],\n",
              "         [137],\n",
              "         [138],\n",
              "         ...,\n",
              "         [207],\n",
              "         [214],\n",
              "         [218]],\n",
              "\n",
              "        [[139],\n",
              "         [140],\n",
              "         [141],\n",
              "         ...,\n",
              "         [209],\n",
              "         [216],\n",
              "         [222]],\n",
              "\n",
              "        [[140],\n",
              "         [142],\n",
              "         [144],\n",
              "         ...,\n",
              "         [210],\n",
              "         [217],\n",
              "         [224]]],\n",
              "\n",
              "\n",
              "       [[[ 98],\n",
              "         [ 96],\n",
              "         [ 96],\n",
              "         ...,\n",
              "         [ 68],\n",
              "         [ 68],\n",
              "         [122]],\n",
              "\n",
              "        [[ 98],\n",
              "         [ 94],\n",
              "         [ 69],\n",
              "         ...,\n",
              "         [ 71],\n",
              "         [135],\n",
              "         [131]],\n",
              "\n",
              "        [[ 94],\n",
              "         [ 90],\n",
              "         [ 96],\n",
              "         ...,\n",
              "         [131],\n",
              "         [128],\n",
              "         [135]],\n",
              "\n",
              "        ...,\n",
              "\n",
              "        [[184],\n",
              "         [182],\n",
              "         [182],\n",
              "         ...,\n",
              "         [130],\n",
              "         [133],\n",
              "         [144]],\n",
              "\n",
              "        [[186],\n",
              "         [188],\n",
              "         [181],\n",
              "         ...,\n",
              "         [128],\n",
              "         [131],\n",
              "         [138]],\n",
              "\n",
              "        [[189],\n",
              "         [188],\n",
              "         [184],\n",
              "         ...,\n",
              "         [125],\n",
              "         [130],\n",
              "         [133]]],\n",
              "\n",
              "\n",
              "       [[[ 13],\n",
              "         [  8],\n",
              "         [  9],\n",
              "         ...,\n",
              "         [ 22],\n",
              "         [ 22],\n",
              "         [ 70]],\n",
              "\n",
              "        [[ 36],\n",
              "         [ 41],\n",
              "         [ 28],\n",
              "         ...,\n",
              "         [ 35],\n",
              "         [ 60],\n",
              "         [ 61]],\n",
              "\n",
              "        [[ 19],\n",
              "         [ 19],\n",
              "         [ 18],\n",
              "         ...,\n",
              "         [ 59],\n",
              "         [ 65],\n",
              "         [ 68]],\n",
              "\n",
              "        ...,\n",
              "\n",
              "        [[151],\n",
              "         [148],\n",
              "         [154],\n",
              "         ...,\n",
              "         [226],\n",
              "         [234],\n",
              "         [237]],\n",
              "\n",
              "        [[154],\n",
              "         [154],\n",
              "         [157],\n",
              "         ...,\n",
              "         [230],\n",
              "         [236],\n",
              "         [239]],\n",
              "\n",
              "        [[153],\n",
              "         [153],\n",
              "         [161],\n",
              "         ...,\n",
              "         [231],\n",
              "         [236],\n",
              "         [238]]]], dtype=uint8)"
            ]
          },
          "metadata": {},
          "execution_count": 120
        }
      ]
    },
    {
      "cell_type": "code",
      "metadata": {
        "id": "mgCpSNHhEJp4"
      },
      "source": [
        ""
      ],
      "execution_count": 120,
      "outputs": []
    },
    {
      "cell_type": "code",
      "metadata": {
        "id": "MNc-Wpr_j9Vq"
      },
      "source": [
        "crosstestgen=ImageDataGenerator(rescale=1/255.0)\n",
        "crosstestdata_generator = crosstestgen.flow(x_test2,y_test2)\n"
      ],
      "execution_count": 133,
      "outputs": []
    },
    {
      "cell_type": "code",
      "metadata": {
        "colab": {
          "base_uri": "https://localhost:8080/"
        },
        "id": "WsRbHW3Fl4xU",
        "outputId": "ec65c2a7-4e29-4071-eb4b-98ffadde78a6"
      },
      "source": [
        "model.evaluate_generator(crosstestdata_generator)[1]"
      ],
      "execution_count": 134,
      "outputs": [
        {
          "output_type": "stream",
          "name": "stderr",
          "text": [
            "/usr/local/lib/python3.7/dist-packages/ipykernel_launcher.py:1: UserWarning: `Model.evaluate_generator` is deprecated and will be removed in a future version. Please use `Model.evaluate`, which supports generators.\n",
            "  \"\"\"Entry point for launching an IPython kernel.\n"
          ]
        },
        {
          "output_type": "execute_result",
          "data": {
            "text/plain": [
              "0.08930555731058121"
            ]
          },
          "metadata": {},
          "execution_count": 134
        }
      ]
    },
    {
      "cell_type": "code",
      "metadata": {
        "id": "hqRQEvti0f_G"
      },
      "source": [
        ""
      ],
      "execution_count": null,
      "outputs": []
    }
  ]
}