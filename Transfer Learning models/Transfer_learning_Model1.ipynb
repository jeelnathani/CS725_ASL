{
  "nbformat": 4,
  "nbformat_minor": 0,
  "metadata": {
    "colab": {
      "name": "725_project_transfer_learning_2",
      "provenance": []
    },
    "kernelspec": {
      "display_name": "Python 3",
      "name": "python3"
    },
    "language_info": {
      "name": "python"
    },
    "accelerator": "GPU"
  },
  "cells": [
    {
      "cell_type": "code",
      "metadata": {
        "id": "fupIh8BZOWnn"
      },
      "source": [
        "from io import BytesIO\n",
        "from urllib.request import urlopen\n",
        "from zipfile import ZipFile\n",
        "url = \"http://grafins.com/ml/compressed_data.zip\"\n",
        "with urlopen(url) as zipresp:\n",
        "    with ZipFile(BytesIO(zipresp.read())) as zfile:\n",
        "        zfile.extractall('.')"
      ],
      "execution_count": 5,
      "outputs": []
    },
    {
      "cell_type": "code",
      "metadata": {
        "id": "PgqSgGSKOuz1"
      },
      "source": [
        "import numpy as np\n",
        "import pandas as pd \n",
        "import os\n",
        "import cv2\n",
        "import tensorflow as tf\n",
        "import keras\n",
        "from keras.models import Sequential\n",
        "from keras.layers import *\n",
        "import matplotlib.pyplot as plt\n",
        "import math\n",
        "import random\n",
        "\n",
        "from tensorflow.keras.applications.inception_v3 import InceptionV3"
      ],
      "execution_count": 2,
      "outputs": []
    },
    {
      "cell_type": "code",
      "metadata": {
        "id": "Leu7ECKjPXop"
      },
      "source": [
        "labels = [\"A\", \"B\", \"C\", \"D\", \"E\", \"F\", \"G\", \"H\", \"I\", \"J\", \"K\", \"L\", \"M\", \"N\", \"O\", \"P\", \"Q\", \"R\", \"S\", \"T\", \"U\", \"V\", \"W\", \"X\", \"Y\", \"Z\"]\n",
        "data_dir = './compressed_data/train/'\n",
        "img_size = 75\n",
        "def get_data():\n",
        "  data = []\n",
        "  x_data = []\n",
        "  y_data = []\n",
        "  i=0;\n",
        "  for label in labels:\n",
        "    path = os.path.join(data_dir,label)\n",
        "    print(\"Extracting\",label)\n",
        "    for img in os.listdir(path):\n",
        "      try:\n",
        "        image = cv2.imread(os.path.join(path,img))\n",
        "        image = cv2.resize(image,(img_size,img_size))\n",
        "        data.append([image,i])\n",
        "      except Exception as e:\n",
        "        print(e)\n",
        "    i+=1\n",
        "  random.shuffle(data)\n",
        "  for d in data:\n",
        "    x_data.append(d[0])\n",
        "    y_data.append(d[1])\n",
        "  print(len(x_data),len(y_data))\n",
        "  return np.array(x_data),np.array(y_data),len(x_data)\n",
        "\n",
        "  \n",
        "\n"
      ],
      "execution_count": 3,
      "outputs": []
    },
    {
      "cell_type": "code",
      "metadata": {
        "colab": {
          "base_uri": "https://localhost:8080/"
        },
        "id": "dP3qEMCPPdbO",
        "outputId": "53a76394-ca71-4a58-f934-6ac8eab92746"
      },
      "source": [
        "x, y, size = get_data()"
      ],
      "execution_count": 6,
      "outputs": [
        {
          "output_type": "stream",
          "name": "stdout",
          "text": [
            "Extracting A\n",
            "Extracting B\n",
            "Extracting C\n",
            "Extracting D\n",
            "Extracting E\n",
            "Extracting F\n",
            "Extracting G\n",
            "Extracting H\n",
            "Extracting I\n",
            "Extracting J\n",
            "Extracting K\n",
            "Extracting L\n",
            "Extracting M\n",
            "Extracting N\n",
            "Extracting O\n",
            "Extracting P\n",
            "Extracting Q\n",
            "Extracting R\n",
            "Extracting S\n",
            "Extracting T\n",
            "Extracting U\n",
            "Extracting V\n",
            "Extracting W\n",
            "Extracting X\n",
            "Extracting Y\n",
            "Extracting Z\n",
            "78000 78000\n"
          ]
        }
      ]
    },
    {
      "cell_type": "code",
      "metadata": {
        "id": "Y9J_u-Z0Pie8"
      },
      "source": [
        "split = math.ceil(size*0.9)\n",
        "x_train = x[:split]\n",
        "y_train = y[:split]\n",
        "x_test = x[split:]\n",
        "y_test = y[split:]"
      ],
      "execution_count": 7,
      "outputs": []
    },
    {
      "cell_type": "code",
      "metadata": {
        "id": "0S4jXkjg-r8Y"
      },
      "source": [
        "model = InceptionV3(input_shape = (img_size,img_size,3),include_top = False,weights='imagenet')\n",
        "\n",
        "for layer in model.layers[:-5]:\n",
        "  layer.trainable = False;"
      ],
      "execution_count": 16,
      "outputs": []
    },
    {
      "cell_type": "code",
      "metadata": {
        "id": "H_oxSfoy_VII"
      },
      "source": [
        "\n",
        "last_layer = keras.layers.Flatten()(model.output)\n",
        "last_layer = keras.layers.Dense(4096,activation='relu')(last_layer)\n",
        "last_layer = keras.layers.Dense(512,activation='relu')(last_layer)\n",
        "last_layer = keras.layers.Dense(26,activation='softmax')(last_layer)\n",
        "model = keras.Model(model.input,last_layer)"
      ],
      "execution_count": 9,
      "outputs": []
    },
    {
      "cell_type": "code",
      "metadata": {
        "id": "fbjU05wL_a2v"
      },
      "source": [
        "model.summary()"
      ],
      "execution_count": null,
      "outputs": []
    },
    {
      "cell_type": "code",
      "metadata": {
        "id": "XFThN-aJ_3-9"
      },
      "source": [
        "model.compile(optimizer='adam',\n",
        "              loss=keras.losses.SparseCategoricalCrossentropy(),\n",
        "              metrics=['accuracy'])"
      ],
      "execution_count": 10,
      "outputs": []
    },
    {
      "cell_type": "code",
      "metadata": {
        "colab": {
          "base_uri": "https://localhost:8080/"
        },
        "id": "mu4oiZpsAEqg",
        "outputId": "9f32e467-5908-47c2-9a73-4eaafa574e7c"
      },
      "source": [
        "history = model.fit(x_train, y_train, epochs=10, validation_split = 0.2)"
      ],
      "execution_count": 11,
      "outputs": [
        {
          "output_type": "stream",
          "name": "stdout",
          "text": [
            "Epoch 1/10\n",
            "1755/1755 [==============================] - 144s 63ms/step - loss: 7.4198 - accuracy: 0.0781 - val_loss: 2.8605 - val_accuracy: 0.1585\n",
            "Epoch 2/10\n",
            "1755/1755 [==============================] - 108s 62ms/step - loss: 2.6113 - accuracy: 0.2226 - val_loss: 2.3989 - val_accuracy: 0.2886\n",
            "Epoch 3/10\n",
            "1755/1755 [==============================] - 108s 62ms/step - loss: 2.0454 - accuracy: 0.3614 - val_loss: 1.8425 - val_accuracy: 0.4077\n",
            "Epoch 4/10\n",
            "1755/1755 [==============================] - 109s 62ms/step - loss: 1.6235 - accuracy: 0.4734 - val_loss: 1.4370 - val_accuracy: 0.5219\n",
            "Epoch 5/10\n",
            "1755/1755 [==============================] - 109s 62ms/step - loss: 1.3810 - accuracy: 0.5391 - val_loss: 1.3543 - val_accuracy: 0.5396\n",
            "Epoch 6/10\n",
            "1755/1755 [==============================] - 108s 62ms/step - loss: 1.2472 - accuracy: 0.5813 - val_loss: 1.1584 - val_accuracy: 0.6066\n",
            "Epoch 7/10\n",
            "1755/1755 [==============================] - 109s 62ms/step - loss: 1.1192 - accuracy: 0.6220 - val_loss: 1.0780 - val_accuracy: 0.6355\n",
            "Epoch 8/10\n",
            "1755/1755 [==============================] - 110s 63ms/step - loss: 1.0497 - accuracy: 0.6456 - val_loss: 1.0426 - val_accuracy: 0.6494\n",
            "Epoch 9/10\n",
            "1755/1755 [==============================] - 109s 62ms/step - loss: 0.9846 - accuracy: 0.6673 - val_loss: 0.9473 - val_accuracy: 0.6798\n",
            "Epoch 10/10\n",
            "1755/1755 [==============================] - 108s 61ms/step - loss: 0.9519 - accuracy: 0.6800 - val_loss: 1.1330 - val_accuracy: 0.6412\n"
          ]
        }
      ]
    },
    {
      "cell_type": "code",
      "metadata": {
        "colab": {
          "base_uri": "https://localhost:8080/"
        },
        "id": "anS71QZnAKPN",
        "outputId": "d02cc500-51d4-456f-e424-d57bf83a2be2"
      },
      "source": [
        "model.evaluate(x_test,y_test)"
      ],
      "execution_count": 12,
      "outputs": [
        {
          "output_type": "stream",
          "name": "stdout",
          "text": [
            "244/244 [==============================] - 12s 48ms/step - loss: 1.0917 - accuracy: 0.6574\n"
          ]
        },
        {
          "output_type": "execute_result",
          "data": {
            "text/plain": [
              "[1.091732144355774, 0.6574358940124512]"
            ]
          },
          "metadata": {},
          "execution_count": 12
        }
      ]
    },
    {
      "cell_type": "code",
      "metadata": {
        "colab": {
          "base_uri": "https://localhost:8080/",
          "height": 300
        },
        "id": "fJj_8ju8ANWA",
        "outputId": "8d95f2b1-3497-469d-c170-01566a685a17"
      },
      "source": [
        "plt.plot(history.history['accuracy'], label='accuracy')\n",
        "plt.plot(history.history['val_accuracy'], label = 'val_accuracy')\n",
        "plt.xlabel('Epoch')\n",
        "plt.ylabel('Accuracy')\n",
        "plt.ylim([0.0, 1])\n",
        "plt.legend(loc='lower right')"
      ],
      "execution_count": 14,
      "outputs": [
        {
          "output_type": "execute_result",
          "data": {
            "text/plain": [
              "<matplotlib.legend.Legend at 0x7fc339edc850>"
            ]
          },
          "metadata": {},
          "execution_count": 14
        },
        {
          "output_type": "display_data",
          "data": {
            "image/png": "[encoded data removed]",
            "text/plain": [
              "<Figure size 432x288 with 1 Axes>"
            ]
          },
          "metadata": {
            "needs_background": "light"
          }
        }
      ]
    },
    {
      "cell_type": "code",
      "metadata": {
        "colab": {
          "base_uri": "https://localhost:8080/",
          "height": 296
        },
        "id": "xf3ZLCJyfjbU",
        "outputId": "dba66f5f-9525-4e8b-c4ce-b8056b7a0267"
      },
      "source": [
        "\n",
        "plt.plot(history.history['loss'], label = 'loss')\n",
        "plt.plot(history.history['val_loss'], label = 'val_loss')\n",
        "plt.xlabel('Epoch')\n",
        "plt.ylabel('Accuracy')\n",
        "plt.legend(loc='upper right')"
      ],
      "execution_count": 15,
      "outputs": [
        {
          "output_type": "execute_result",
          "data": {
            "text/plain": [
              "<matplotlib.legend.Legend at 0x7fc339ede590>"
            ]
          },
          "metadata": {},
          "execution_count": 15
        },
        {
          "output_type": "display_data",
          "data": {
            "image/png": "[encoded data removed]",
            "text/plain": [
              "<Figure size 432x288 with 1 Axes>"
            ]
          },
          "metadata": {
            "needs_background": "light"
          }
        }
      ]
    },
    {
      "cell_type": "code",
      "metadata": {
        "id": "Xn6UOGtYfkPR"
      },
      "source": [
        ""
      ],
      "execution_count": null,
      "outputs": []
    }
  ]
}